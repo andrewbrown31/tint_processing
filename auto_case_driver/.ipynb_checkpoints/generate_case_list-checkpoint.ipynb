{
 "cells": [
  {
   "cell_type": "code",
   "execution_count": 1,
   "id": "db117996-f424-4738-afb9-f99ecacdec99",
   "metadata": {},
   "outputs": [],
   "source": [
    "import pandas as pd\n",
    "import numpy as np\n",
    "import datetime as dt\n",
    "import os"
   ]
  },
  {
   "cell_type": "code",
   "execution_count": 2,
   "id": "6ac6f6e0-bcbd-4050-8738-002ad96fa429",
   "metadata": {},
   "outputs": [],
   "source": [
    "df_auto = pd.DataFrame()\n",
    "cols = [\"gust_time_utc\",\"lat\",\"lon\",\"stn_name\"]\n",
    "events = pd.read_pickle(\"/g/data/eg3/ab4502/ExtremeWind/obs/aws/convective_wind_gust_aus_2005_2018.pkl\")\n",
    "for loc in [\"Melbourne\",\"Sydney\",\"Amberley\",\"Oakey\",\"Woomera\"]:\n",
    "    if loc==\"Sydney\":\n",
    "        cond = (events[\"wind_gust\"] >= 25) &\\\n",
    "            (events[\"stn_name\"]==\"Sydney\") &\\\n",
    "            (events[\"lightning\"]>=2) &\\\n",
    "            (events[\"gust_time_utc\"]>=dt.datetime(2009,5,17)) &\\\n",
    "            (events[\"gust_time_utc\"] != dt.datetime(2013,10,29,3,8,0)) &\\\n",
    "            (events[\"gust_time_utc\"] != dt.datetime(2014,6,28,6,8,0))\n",
    "    elif loc==\"Woomera\":\n",
    "        cond = (events[\"wind_gust\"] >= 25) &\\\n",
    "            (events[\"stn_name\"]==\"Woomera\") &\\\n",
    "            (events[\"lightning\"]>=2) &\\\n",
    "            (events[\"gust_time_utc\"] != dt.datetime(2011,9,28,7,2))\n",
    "    else:\n",
    "        cond = (events[\"wind_gust\"] >= 25) & (events[\"stn_name\"]==loc) & (events[\"lightning\"]>=2)\n",
    "        \n",
    "    if loc==\"Oakey\":    \n",
    "        loc_events = events[cond].sort_values(\"wind_gust\",ascending=False).iloc[0:5].sort_values(\"gust_time_utc\")[cols]\n",
    "    else:\n",
    "        loc_events = events[cond].sort_values(\"wind_gust\",ascending=False).iloc[0:9].sort_values(\"gust_time_utc\")[cols]\n",
    "    df_auto = pd.concat([df_auto,loc_events.set_index(\"gust_time_utc\")], axis=0)\n",
    "\n",
    "df_auto.loc[df_auto[\"stn_name\"]==\"Melbourne\",\"rid\"] = \"2\"    \n",
    "df_auto.loc[df_auto[\"stn_name\"]==\"Sydney\",\"rid\"] = \"71\"\n",
    "df_auto.loc[df_auto[\"stn_name\"]==\"Amberley\",\"rid\"] = \"66\"\n",
    "df_auto.loc[df_auto[\"stn_name\"]==\"Oakey\",\"rid\"] = \"50\"\n",
    "df_auto.loc[df_auto[\"stn_name\"]==\"Woomera\",\"rid\"] = \"27\"\n",
    "\n",
    "df_auto.loc[df_auto[\"stn_name\"]==\"Melbourne\",\"stn_id\"] = \"086282\"    \n",
    "df_auto.loc[df_auto[\"stn_name\"]==\"Sydney\",\"stn_id\"] = \"066037\"    \n",
    "df_auto.loc[df_auto[\"stn_name\"]==\"Amberley\",\"stn_id\"] = \"040004\"    \n",
    "df_auto.loc[df_auto[\"stn_name\"]==\"Oakey\",\"stn_id\"] = \"041359\"    \n",
    "df_auto.loc[df_auto[\"stn_name\"]==\"Woomera\",\"stn_id\"] = \"016001\"    "
   ]
  },
  {
   "cell_type": "code",
   "execution_count": 3,
   "id": "e2553357-d40e-4f3f-aed6-8bb05ebfeb8d",
   "metadata": {},
   "outputs": [],
   "source": [
    "df_auto.to_csv(\"/g/data/eg3/ab4502/figs/ExtremeWind/case_studies/case_study_list.csv\")"
   ]
  }
 ],
 "metadata": {
  "kernelspec": {
   "display_name": "Python [conda env:miniconda3]",
   "language": "python",
   "name": "conda-env-miniconda3-py"
  },
  "language_info": {
   "codemirror_mode": {
    "name": "ipython",
    "version": 3
   },
   "file_extension": ".py",
   "mimetype": "text/x-python",
   "name": "python",
   "nbconvert_exporter": "python",
   "pygments_lexer": "ipython3",
   "version": "3.7.6"
  }
 },
 "nbformat": 4,
 "nbformat_minor": 5
}
