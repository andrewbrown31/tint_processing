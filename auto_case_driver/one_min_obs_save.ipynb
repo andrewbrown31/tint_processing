{
 "cells": [
  {
   "cell_type": "code",
   "execution_count": 1,
   "id": "a4df7d9b-2c36-4503-9643-872df55c2859",
   "metadata": {},
   "outputs": [],
   "source": [
    "import pandas as pd\n",
    "import datetime as dt\n",
    "import matplotlib.pyplot as plt\n",
    "import matplotlib.dates as mdates\n",
    "import glob\n",
    "import numpy as np\n",
    "import tqdm"
   ]
  },
  {
   "cell_type": "code",
   "execution_count": 2,
   "id": "bf3e2782-0908-4006-95d3-6881a7c3d424",
   "metadata": {},
   "outputs": [],
   "source": [
    "def read_aws(stn_id):\n",
    "    dtypes = {\"hd\":str, \"stn_id\":str, \"dt_lt\":str, \"dt_utc\":str, \"gust\":str, \"q\":str, \"#\":str}\n",
    "    df=pd.read_csv(glob.glob(\"/g/data/eg3/ab4502/ExtremeWind/obs/aws/*_one_min_gust/HD01D_Data_*\"+stn_id+\"*.txt\")[0],\\\n",
    "        names=[\"hd\",\"stn_id\",\"dt_lt\",\"dt_utc\",\"gust\",\"q\",\"#\"],header=0,dtype=dtypes)\n",
    "    df[\"dt_utc\"] = pd.DatetimeIndex(pd.to_datetime(df[\"dt_utc\"], format=\"%Y%m%d%H%M\"))\n",
    "    df = df.set_index(\"dt_utc\")\n",
    "    df[\"gust\"] = pd.to_numeric(df[\"gust\"], errors=\"coerce\") \n",
    "    \n",
    "    return df\n",
    "\n",
    "def latlon_dist(lat, lon, lats, lons):\n",
    "\n",
    "        #Calculate great circle distance (Harversine) between a lat lon point (lat, lon) and a list of lat lon\n",
    "        # points (lats, lons)\n",
    "                        \n",
    "        R = 6373.0\n",
    "                        \n",
    "        lat1 = np.deg2rad(lat)\n",
    "        lon1 = np.deg2rad(lon)\n",
    "        lat2 = np.deg2rad(lats)\n",
    "        lon2 = np.deg2rad(lons)\n",
    "                \n",
    "        dlon = lon2 - lon1\n",
    "        dlat = lat2 - lat1\n",
    "\n",
    "        a = np.sin(dlat / 2)**2 + np.cos(lat1) * np.cos(lat2) * np.sin(dlon / 2)**2\n",
    "        c = 2 * np.arctan2(np.sqrt(a), np.sqrt(1 - a))\n",
    "\n",
    "        return (R * c)\n",
    "    \n",
    "def load_lightning(date, stn_no, state):\n",
    "\n",
    "    try:\n",
    "        lightning = pd.read_csv(\"/g/data/eg3/ab4502/ExtremeWind/ad_data/lightning_raw/A\"+date+\".loc\",header=None,\n",
    "                               names=[\"date\",\"time\",\"lat\",\"lon\",\"1\",\"2\"])\n",
    "    except:\n",
    "        lightning = pd.read_csv(\"/g/data/eg3/ab4502/ExtremeWind/ad_data/lightning_raw/AE\"+date+\".loc\",header=None,\n",
    "                               names=[\"date\",\"time\",\"lat\",\"lon\",\"1\",\"2\",\"3\",\"4\",\"5\"])\n",
    "    names = [\"id\", \"stn_no\", \"district\", \"stn_name\", \"site_open\", \"site_close\", \"lat\", \"lon\", \"latlon_method\", \"state\",\\\n",
    "                    \"hgt_asl\", \"hgt_asl_baro\", \"wmo_idx\", \"y1\", \"y2\", \"comp%\", \"Y%\", \"N%\", \"W%\", \"S%\", \"I%\", \"#\"]\n",
    "    stn_df = pd.read_csv(glob.glob(\"/g/data/eg3/ab4502/ExtremeWind/obs/aws/\"+state+\"_one_min_gust/HD01D_StnDet_*.txt\")[0],\\\n",
    "            names=names, header=0)\n",
    "    lightning[\"l_dist\"] = latlon_dist(stn_df[stn_df.stn_no==int(stn_no)].lat.values[0], stn_df[stn_df.stn_no==int(stn_no)].lon.values[0],\n",
    "        lightning[\"lat\"], lightning[\"lon\"])\n",
    "    lightning[\"latlon\"] = lightning[\"lat\"].astype(\"str\") + \" \" + lightning[\"lon\"].astype(\"str\")\n",
    "    lightning[\"latlon\"] = lightning.latlon.where(lightning.l_dist <= 50, np.nan)\n",
    "\n",
    "    lightning[\"datetime\"] = pd.DatetimeIndex(lightning[\"date\"] + \" \" + lightning[\"time\"])\n",
    "    lightning = lightning.set_index(lightning[\"datetime\"])    \n",
    "    return lightning[[\"lat\",\"lon\",\"l_dist\",\"latlon\"]].resample(\"1min\").nunique()    "
   ]
  },
  {
   "cell_type": "code",
   "execution_count": 3,
   "id": "747b6290-c38b-464c-83a2-da9df36eada1",
   "metadata": {},
   "outputs": [],
   "source": [
    "details_list = pd.read_csv(\"/g/data/eg3/ab4502/figs/ExtremeWind/case_studies/case_study_list.csv\")\n",
    "details_list[\"gust_time_utc\"] = pd.DatetimeIndex(details_list.gust_time_utc)\n",
    "details_list[\"rid\"] = details_list.rid.astype(str)\n",
    "details_list[\"stn_id\"] = details_list.stn_id.astype(str).str.pad(width=6,side=\"left\",fillchar=\"0\")\n"
   ]
  },
  {
   "cell_type": "code",
   "execution_count": 4,
   "id": "68349cff-7cb2-4f63-ab2b-e7a6b2214dc1",
   "metadata": {},
   "outputs": [
    {
     "name": "stderr",
     "output_type": "stream",
     "text": [
      "36it [07:46, 12.96s/it]\n"
     ]
    }
   ],
   "source": [
    "time_ls = []\n",
    "rid = []\n",
    "wg = []\n",
    "rb = []\n",
    "ra = []\n",
    "rab4 = []\n",
    "rab1 = []\n",
    "pr = []\n",
    "lightning=[]\n",
    "\n",
    "for index, row in tqdm.tqdm(details_list.iterrows()):\n",
    "    event_time = row.gust_time_utc\n",
    "    for f in glob.glob(\"/g/data/eg3/ab4502/ExtremeWind/obs/aws/one_min_case_data_2/HD01D_Data_\"+row[\"stn_id\"]+\"_*.txt\"):\n",
    "        df = pd.read_csv(f,\n",
    "                   names=[\"hd\",\"stn_no\",\"dt_lt\",\"Time (UTC)\",\"p\",\"p_q\",\"p_p\",\"t\",\"t1\",\"dp\",\"dp_q\",\\\n",
    "                          \"rh\",\"rh_q\",\"ws\",\"ws_q\",\"min_ws\",\"min_ws_q\",\"wd\",\"wd_q\",\"std_wd\",\"std_wd_q\",\\\n",
    "                          \"wg\",\"wg_q\",\"mslp\",\"mslp_q\",\"pres\",\"pres_q\",\"qnh\",\"qnh_q\",\"#\"], header=0, index_col=\"Time (UTC)\", parse_dates=True)\n",
    "        df[\"wg\"] = pd.to_numeric(df[\"wg\"],errors=\"coerce\")\n",
    "        df[\"p\"] = pd.to_numeric(df[\"p\"],errors=\"coerce\")\n",
    "        if np.min(np.abs(df.index - event_time)).seconds < 3600:\n",
    "                time = df.index[np.argmax(df.wg)]\n",
    "                times = [time + dt.timedelta(seconds=-2*60*60), \n",
    "                         time + dt.timedelta(seconds=-30*60), \n",
    "                         time + dt.timedelta(seconds=30*60), \n",
    "                         time + dt.timedelta(seconds=2*60*60)]\n",
    "                df = df.set_index(pd.DatetimeIndex(df.index))\n",
    "                df = df.merge(load_lightning(row.gust_time_utc.strftime(\"%Y%m%d\"),\n",
    "                                             row[\"stn_id\"],row[\"state\"]), how=\"outer\", right_index=True, left_index=True)\n",
    "                wg_max = df.wg.max()\n",
    "\n",
    "                time_ls.append(time)\n",
    "                rid.append(row[\"rid\"])\n",
    "                wg.append(wg_max)\n",
    "                if df.loc[slice(times[0], time)].wg.isna().sum() >= 30:\n",
    "                    rb.append(np.nan)\n",
    "                else:\n",
    "                    rb.append(wg_max / df.loc[slice(times[0], time)].wg.mean())\n",
    "                if df.loc[slice(time, times[3])].wg.isna().sum() >= 30:\n",
    "                    ra.append(np.nan)\n",
    "                else:\n",
    "                    ra.append(wg_max / df.loc[slice(time, times[3])].wg.mean())\n",
    "                rab4.append(wg_max / df.loc[slice(times[0], times[3])].wg.mean())\n",
    "                rab1.append(wg_max / df.loc[slice(times[1], times[2])].wg.mean()) \n",
    "                \n",
    "                if (df.loc[slice(time, time+dt.timedelta(seconds=60*60))].p.sum() < 1) & \\\n",
    "                        df.loc[slice(time, time+dt.timedelta(seconds=60*60))].p.isna().sum() < 10:\n",
    "                    pr.append(df.loc[slice(time, time+dt.timedelta(seconds=60*60))].p.sum())\n",
    "                else:\n",
    "                    pr.append(np.nan)\n",
    "                \n",
    "                lightning.append(df.loc[slice(time+dt.timedelta(seconds=-30*60), time+dt.timedelta(seconds=30*60))].latlon.sum())\n",
    "                \n",
    "                break"
   ]
  },
  {
   "cell_type": "code",
   "execution_count": 5,
   "id": "ed7479f4-14a2-42f1-be74-8b4d72bd6274",
   "metadata": {},
   "outputs": [],
   "source": [
    "pd.DataFrame({\"time\":time_ls, \"rid\":rid, \"wg\":wg, \"rb\":rb, \"ra\":ra, \"rab4\":rab4, \"rab1\":rab1, \"pr\":pr, \"lightning\":lightning}).to_csv(\"/g/data/eg3/ab4502/figs/ExtremeWind/case_studies/one_min_obs_stats.csv\")"
   ]
  },
  {
   "cell_type": "code",
   "execution_count": null,
   "id": "86a3c073-4829-4741-89d0-38dc8f7ff410",
   "metadata": {},
   "outputs": [],
   "source": []
  }
 ],
 "metadata": {
  "kernelspec": {
   "display_name": "Python [conda env:miniconda3]",
   "language": "python",
   "name": "conda-env-miniconda3-py"
  },
  "language_info": {
   "codemirror_mode": {
    "name": "ipython",
    "version": 3
   },
   "file_extension": ".py",
   "mimetype": "text/x-python",
   "name": "python",
   "nbconvert_exporter": "python",
   "pygments_lexer": "ipython3",
   "version": "3.7.6"
  }
 },
 "nbformat": 4,
 "nbformat_minor": 5
}
