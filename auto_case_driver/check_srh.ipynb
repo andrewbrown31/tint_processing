{
 "cells": [
  {
   "cell_type": "code",
   "execution_count": 100,
   "id": "3f201c66-5a02-471a-818a-6017f9c391f8",
   "metadata": {},
   "outputs": [],
   "source": [
    "import pandas as pd\n",
    "import xarray as xr\n",
    "import numpy as np\n",
    "import matplotlib.pyplot as plt\n",
    "import datetime as dt\n",
    "import sharppy.plot.skew as skew\n",
    "from sharppy.sharptab import winds, utils, params, thermo, interp, profile\n",
    "from sharppy.io.spc_decoder import SPCDecoder\n",
    "import xarray as xr\n",
    "from metpy.calc import dewpoint_from_relative_humidity\n",
    "import glob\n",
    "from matplotlib import gridspec\n",
    "from matplotlib.ticker import ScalarFormatter, MultipleLocator\n",
    "import pyart\n",
    "import cartopy.crs as ccrs\n",
    "import warnings; warnings.simplefilter(\"ignore\")\n",
    "import zipfile\n",
    "from IPython.display import display, Markdown\n",
    "import netCDF4 as nc\n",
    "from sklearn.cluster import KMeans as kmeans\n",
    "import seaborn as sns\n",
    "import tqdm\n",
    "from mpl_toolkits.axes_grid1.inset_locator import inset_axes as inset\n",
    "from matplotlib.patches import Circle\n",
    "from metpy.calc import storm_relative_helicity, bunkers_storm_motion\n",
    "from metpy.units import units"
   ]
  },
  {
   "cell_type": "code",
   "execution_count": 132,
   "id": "933445e5-9053-42b2-b241-edf5798d6697",
   "metadata": {},
   "outputs": [],
   "source": [
    "def get_sounding(time, lat, lon, var_max):\n",
    "\n",
    "    str_fmt = \"/g/data/rt52/era5/pressure-levels/reanalysis/%s/%d/%s_era5_oper_pl_%s*.nc\" \n",
    "    str_fmt_sfc = \"/g/data/rt52/era5/single-levels/reanalysis/%s/%d/%s_era5_oper_sfc_%s*.nc\"\n",
    "    \n",
    "    # m, latlon = get_point_data(time,lat,lon,50,[var_max])\n",
    "    # print(m)\n",
    "    # lat = latlon[0]\n",
    "    # lon = latlon[1]\n",
    "    \n",
    "    z=xr.open_dataset(glob.glob(str_fmt % (\"z\",time.year,\"z\",time.strftime(\"%Y%m01\")))[0])[\"z\"].\\\n",
    "            sel({\"time\":time.replace(minute=0)}).interp({\"longitude\":lon, \"latitude\":lat},method=\"nearest\")\n",
    "    u=xr.open_dataset(glob.glob(str_fmt % (\"u\",time.year,\"u\",time.strftime(\"%Y%m01\")))[0])[\"u\"].\\\n",
    "            sel({\"time\":time.replace(minute=0)}).interp({\"longitude\":lon, \"latitude\":lat},method=\"nearest\")\n",
    "    v=xr.open_dataset(glob.glob(str_fmt % (\"v\",time.year,\"v\",time.strftime(\"%Y%m01\")))[0])[\"v\"].\\\n",
    "            sel({\"time\":time.replace(minute=0)}).interp({\"longitude\":lon, \"latitude\":lat},method=\"nearest\")\n",
    "    \n",
    "    us=xr.open_dataset(glob.glob(str_fmt_sfc % (\"10u\",time.year,\"10u\",time.strftime(\"%Y%m01\")))[0])[\"u10\"].\\\n",
    "            sel({\"time\":time.replace(minute=0)}).interp({\"longitude\":lon, \"latitude\":lat},method=\"nearest\")    \n",
    "    vs=xr.open_dataset(glob.glob(str_fmt_sfc % (\"10v\",time.year,\"10v\",time.strftime(\"%Y%m01\")))[0])[\"v10\"].\\\n",
    "            sel({\"time\":time.replace(minute=0)}).interp({\"longitude\":lon, \"latitude\":lat},method=\"nearest\")    \n",
    "    zs=xr.open_dataset(glob.glob(str_fmt_sfc % (\"z\",time.year,\"z\",time.strftime(\"%Y%m01\")))[0])[\"z\"].\\\n",
    "            sel({\"time\":time.replace(minute=0)}).interp({\"longitude\":lon, \"latitude\":lat},method=\"nearest\") \n",
    "    ps=xr.open_dataset(glob.glob(str_fmt_sfc % (\"sp\",time.year,\"sp\",time.strftime(\"%Y%m01\")))[0])[\"sp\"].\\\n",
    "            sel({\"time\":time.replace(minute=0)}).interp({\"longitude\":lon, \"latitude\":lat},method=\"nearest\")    \n",
    "    \n",
    "    p=z.level\n",
    "    prof_pres = np.flip(p.values.squeeze())\n",
    "    prof_hgt = np.flip(z.values.squeeze()/9.8)\n",
    "    prof_u = np.flip(u.values.squeeze()*1.94)\n",
    "    prof_v = np.flip(v.values.squeeze()*1.94)\n",
    "    agl_inds = prof_pres <= (ps.values/100.)\n",
    "    \n",
    "    pres=np.insert(prof_pres[agl_inds], 0, ps.values/100.)\n",
    "    hght=np.insert(prof_hgt[agl_inds], 0, zs.values/9.8)\n",
    "    u=np.insert(prof_u[agl_inds], 0, us.values*1.94)\n",
    "    v=np.insert(prof_v[agl_inds], 0, vs.values*1.94)\n",
    "    \n",
    "    f = xr.open_mfdataset(\"/g/data/eg3/ab4502/ExtremeWind/aus/era5/era5_\"+time.strftime(\"%Y%m01\")+\"*.nc\")[var_max].\\\n",
    "            sel({\"time\":time.replace(minute=0)}).interp({\"lon\":lon, \"lat\":lat},method=\"nearest\")\n",
    "    print(f.values)\n",
    "    \n",
    "    return u, v, hght, pres\n",
    "    \n",
    "# def get_point_data(time,lat,lon,r,var,plot=False,vmin=None,vmax=None):\n",
    "    \n",
    "#     f = xr.open_dataset(glob.glob(\"/g/data/eg3/ab4502/ExtremeWind/aus/era5/era5_\"\\\n",
    "#                             +time.strftime(\"%Y%m\")+\"*.nc\")[0])[var+[\"mu_cape\"]].sel({\"time\":time.replace(minute=0)})\n",
    "    \n",
    "#     lats = f.coords.get(\"lat\").values\n",
    "#     lons = f.coords.get(\"lon\").values\n",
    "#     x,y = np.meshgrid(lons,lats)\n",
    "#     dist_km = (latlon_dist(lat, lon, y, x) )\n",
    "#     mask = get_mask(lons,lats)\n",
    "#     a,b = np.where( (dist_km <= r) & (mask == 1) )\n",
    "#     target_lons = xr.DataArray(lons[b],dims=\"points\")\n",
    "#     target_lats = xr.DataArray(lats[a],dims=\"points\")    \n",
    "#     f_slice = (f.sel(lon=target_lons, lat=target_lats))\n",
    "    \n",
    "#     if plot:\n",
    "#         plt.figure()\n",
    "#         ax=plt.axes(projection=ccrs.PlateCarree())\n",
    "#         temp = np.where((dist_km <= r) & (mask == 1), f.values, np.nan)\n",
    "#         c=ax.pcolormesh(x,y,temp,vmin=vmin,vmax=vmax)\n",
    "#         plt.colorbar(c)\n",
    "#         ax.coastlines()\n",
    "    \n",
    "#     #Return the value of the point with the highest absolute value\n",
    "#     return pd.DataFrame([f_slice[v].values[np.abs(f_slice[v]).argmax()] for v in var], index=var),\\\n",
    "#             [f_slice.lat.values[np.abs(f_slice[var[0]]).argmax()],\\\n",
    "#              f_slice.lon.values[np.abs(f_slice[var[0]]).argmax()] ]\n",
    "\n",
    "# def latlon_dist(lat, lon, lats, lons):\n",
    "\n",
    "#         #Calculate great circle distance (Harversine) between a lat lon point (lat, lon) and a list of lat lon\n",
    "#         # points (lats, lons)\n",
    "                        \n",
    "#         R = 6373.0\n",
    "                        \n",
    "#         lat1 = np.deg2rad(lat)\n",
    "#         lon1 = np.deg2rad(lon)\n",
    "#         lat2 = np.deg2rad(lats)\n",
    "#         lon2 = np.deg2rad(lons)\n",
    "                \n",
    "#         dlon = lon2 - lon1\n",
    "#         dlat = lat2 - lat1\n",
    "\n",
    "#         a = np.sin(dlat / 2)**2 + np.cos(lat1) * np.cos(lat2) * np.sin(dlon / 2)**2\n",
    "#         c = 2 * np.arctan2(np.sqrt(a), np.sqrt(1 - a))\n",
    "\n",
    "#         return (R * c)\n",
    "\n",
    "# def get_mask(lon,lat,thresh=0.5):\n",
    "#     #Return lsm for a given domain (with lats=lat and lons=lon)\n",
    "#     lsm,nat_lon,nat_lat = get_lsm()\n",
    "#     lon_ind = np.where((nat_lon >= lon[0]) & (nat_lon <= lon[-1]))[0]\n",
    "#     lat_ind = np.where((nat_lat >= lat[-1]) & (nat_lat <= lat[0]))[0]\n",
    "#     lsm_domain = lsm[(lat_ind[0]):(lat_ind[-1]+1),(lon_ind[0]):(lon_ind[-1]+1)]\n",
    "#     lsm_domain = np.where(lsm_domain > thresh, 1, 0)\n",
    "\n",
    "#     return lsm_domain\n",
    "\n",
    "# def get_lsm():\n",
    "#     #Load the ERA5 land-sea fraction\n",
    "#     lsm_file = nc.Dataset(\"/g/data/rt52/era5/single-levels/reanalysis/lsm/1979/lsm_era5_oper_sfc_19790101-19790131.nc\")\n",
    "#     lsm = np.squeeze(lsm_file.variables[\"lsm\"][0])\n",
    "#     lsm_lon = np.squeeze(lsm_file.variables[\"longitude\"][:])\n",
    "#     lsm_lat = np.squeeze(lsm_file.variables[\"latitude\"][:])\n",
    "#     lsm_file.close()\n",
    "#     return [lsm,lsm_lon,lsm_lat]    \n",
    "\n",
    "\n",
    "def srh_test(u, v, z, p, d):\n",
    "    rm, lm, m06 = bunkers_storm_motion(p*units.hectopascal,u*units.meter_per_second,v*units.meter_per_second,z*units.meter)\n",
    "    print(storm_relative_helicity(z*units.meter, u*units.meter_per_second, v*units.meter_per_second, d*units.meter, bottom=0*units.meter,\n",
    "                       storm_u=lm[0],storm_v=lm[1]))"
   ]
  },
  {
   "cell_type": "code",
   "execution_count": 133,
   "id": "544a6f09-ea89-486f-971a-793a9c9aac61",
   "metadata": {},
   "outputs": [
    {
     "name": "stdout",
     "output_type": "stream",
     "text": [
      "176.23438\n"
     ]
    }
   ],
   "source": [
    "u, v, z, p = get_sounding(dt.datetime(2010,12,16,3,25),-27.6297,152.7111,\"srh06_left\")"
   ]
  },
  {
   "cell_type": "code",
   "execution_count": 134,
   "id": "b4c98daa-99d5-410c-8a99-b5fa28dc03ca",
   "metadata": {},
   "outputs": [
    {
     "name": "stdout",
     "output_type": "stream",
     "text": [
      "(<Quantity(10.9408008, 'meter ** 2 / second ** 2')>, <Quantity(-427.423104, 'meter ** 2 / second ** 2')>, <Quantity(-416.482303, 'meter ** 2 / second ** 2')>)\n"
     ]
    }
   ],
   "source": [
    "srh_test(u,v,z,p,6000)"
   ]
  },
  {
   "cell_type": "code",
   "execution_count": 95,
   "id": "93818923-0304-4399-923a-287c4bc0dff6",
   "metadata": {},
   "outputs": [],
   "source": []
  },
  {
   "cell_type": "code",
   "execution_count": 96,
   "id": "a12402de-6051-4f00-8e66-a57496caedc2",
   "metadata": {},
   "outputs": [
    {
     "name": "stdout",
     "output_type": "stream",
     "text": [
      "(<Quantity(10.9408008, 'meter ** 2 / second ** 2')>, <Quantity(-427.423104, 'meter ** 2 / second ** 2')>, <Quantity(-416.482303, 'meter ** 2 / second ** 2')>)\n"
     ]
    }
   ],
   "source": []
  },
  {
   "cell_type": "code",
   "execution_count": 80,
   "id": "b690e989-3abe-4ab2-9c78-90857170e75a",
   "metadata": {},
   "outputs": [
    {
     "ename": "IndexError",
     "evalue": "too many indices for array: array is 1-dimensional, but 2 were indexed",
     "output_type": "error",
     "traceback": [
      "\u001b[0;31m---------------------------------------------------------------------------\u001b[0m",
      "\u001b[0;31mIndexError\u001b[0m                                Traceback (most recent call last)",
      "\u001b[0;32m/jobfs/43457100.gadi-pbs/ipykernel_2642819/635150654.py\u001b[0m in \u001b[0;36m<module>\u001b[0;34m\u001b[0m\n\u001b[0;32m----> 1\u001b[0;31m \u001b[0mget_srh\u001b[0m\u001b[0;34m(\u001b[0m\u001b[0mu\u001b[0m\u001b[0;34m[\u001b[0m\u001b[0mnp\u001b[0m\u001b[0;34m.\u001b[0m\u001b[0mnewaxis\u001b[0m\u001b[0;34m,\u001b[0m\u001b[0mnp\u001b[0m\u001b[0;34m.\u001b[0m\u001b[0mnewaxis\u001b[0m\u001b[0;34m]\u001b[0m\u001b[0;34m.\u001b[0m\u001b[0mT\u001b[0m\u001b[0;34m,\u001b[0m\u001b[0mv\u001b[0m\u001b[0;34m[\u001b[0m\u001b[0mnp\u001b[0m\u001b[0;34m.\u001b[0m\u001b[0mnewaxis\u001b[0m\u001b[0;34m,\u001b[0m\u001b[0mnp\u001b[0m\u001b[0;34m.\u001b[0m\u001b[0mnewaxis\u001b[0m\u001b[0;34m]\u001b[0m\u001b[0;34m.\u001b[0m\u001b[0mT\u001b[0m\u001b[0;34m,\u001b[0m\u001b[0mz\u001b[0m\u001b[0;34m[\u001b[0m\u001b[0mnp\u001b[0m\u001b[0;34m.\u001b[0m\u001b[0mnewaxis\u001b[0m\u001b[0;34m,\u001b[0m\u001b[0mnp\u001b[0m\u001b[0;34m.\u001b[0m\u001b[0mnewaxis\u001b[0m\u001b[0;34m]\u001b[0m\u001b[0;34m.\u001b[0m\u001b[0mT\u001b[0m\u001b[0;34m,\u001b[0m\u001b[0;36m0\u001b[0m\u001b[0;34m,\u001b[0m\u001b[0;36m6000\u001b[0m\u001b[0;34m,\u001b[0m\u001b[0;36m0\u001b[0m\u001b[0;34m)\u001b[0m\u001b[0;34m\u001b[0m\u001b[0;34m\u001b[0m\u001b[0m\n\u001b[0m",
      "\u001b[0;32m~/working/ExtremeWind/wrf_parallel.py\u001b[0m in \u001b[0;36mget_srh\u001b[0;34m(u, v, hgt, hgt_bot, hgt_top, terrain)\u001b[0m\n\u001b[1;32m    339\u001b[0m \u001b[0;34m\u001b[0m\u001b[0m\n\u001b[1;32m    340\u001b[0m         \u001b[0mu_storm_right\u001b[0m\u001b[0;34m,\u001b[0m \u001b[0mv_storm_right\u001b[0m\u001b[0;34m,\u001b[0m \u001b[0mu_storm_left\u001b[0m\u001b[0;34m,\u001b[0m \u001b[0mv_storm_left\u001b[0m \u001b[0;34m=\u001b[0m\u001b[0;31m \u001b[0m\u001b[0;31m\\\u001b[0m\u001b[0;34m\u001b[0m\u001b[0;34m\u001b[0m\u001b[0m\n\u001b[0;32m--> 341\u001b[0;31m                 \u001b[0mget_storm_motion\u001b[0m\u001b[0;34m(\u001b[0m\u001b[0mnp\u001b[0m\u001b[0;34m.\u001b[0m\u001b[0mcopy\u001b[0m\u001b[0;34m(\u001b[0m\u001b[0mu\u001b[0m\u001b[0;34m)\u001b[0m\u001b[0;34m,\u001b[0m \u001b[0mnp\u001b[0m\u001b[0;34m.\u001b[0m\u001b[0mcopy\u001b[0m\u001b[0;34m(\u001b[0m\u001b[0mv\u001b[0m\u001b[0;34m)\u001b[0m\u001b[0;34m,\u001b[0m \u001b[0mnp\u001b[0m\u001b[0;34m.\u001b[0m\u001b[0mcopy\u001b[0m\u001b[0;34m(\u001b[0m\u001b[0mhgt\u001b[0m\u001b[0;34m)\u001b[0m\u001b[0;34m,\u001b[0m \u001b[0mterrain\u001b[0m\u001b[0;34m)\u001b[0m\u001b[0;34m\u001b[0m\u001b[0;34m\u001b[0m\u001b[0m\n\u001b[0m\u001b[1;32m    342\u001b[0m \u001b[0;34m\u001b[0m\u001b[0m\n\u001b[1;32m    343\u001b[0m         \u001b[0mhgt\u001b[0m \u001b[0;34m=\u001b[0m \u001b[0mhgt\u001b[0m \u001b[0;34m-\u001b[0m \u001b[0mterrain\u001b[0m\u001b[0;34m\u001b[0m\u001b[0;34m\u001b[0m\u001b[0m\n",
      "\u001b[0;32m~/working/ExtremeWind/wrf_parallel.py\u001b[0m in \u001b[0;36mget_storm_motion\u001b[0;34m(u, v, hgt, terrain)\u001b[0m\n\u001b[1;32m    323\u001b[0m         \u001b[0mmnu6\u001b[0m \u001b[0;34m=\u001b[0m \u001b[0mget_mean_var_hgt\u001b[0m\u001b[0;34m(\u001b[0m\u001b[0mnp\u001b[0m\u001b[0;34m.\u001b[0m\u001b[0mcopy\u001b[0m\u001b[0;34m(\u001b[0m\u001b[0mu\u001b[0m\u001b[0;34m)\u001b[0m\u001b[0;34m,\u001b[0m\u001b[0mnp\u001b[0m\u001b[0;34m.\u001b[0m\u001b[0mcopy\u001b[0m\u001b[0;34m(\u001b[0m\u001b[0mhgt\u001b[0m\u001b[0;34m)\u001b[0m\u001b[0;34m,\u001b[0m\u001b[0;36m0\u001b[0m\u001b[0;34m,\u001b[0m\u001b[0;36m6000\u001b[0m\u001b[0;34m,\u001b[0m\u001b[0mterrain\u001b[0m\u001b[0;34m)\u001b[0m\u001b[0;34m\u001b[0m\u001b[0;34m\u001b[0m\u001b[0m\n\u001b[1;32m    324\u001b[0m         \u001b[0mmnv6\u001b[0m \u001b[0;34m=\u001b[0m \u001b[0mget_mean_var_hgt\u001b[0m\u001b[0;34m(\u001b[0m\u001b[0mnp\u001b[0m\u001b[0;34m.\u001b[0m\u001b[0mcopy\u001b[0m\u001b[0;34m(\u001b[0m\u001b[0mv\u001b[0m\u001b[0;34m)\u001b[0m\u001b[0;34m,\u001b[0m\u001b[0mnp\u001b[0m\u001b[0;34m.\u001b[0m\u001b[0mcopy\u001b[0m\u001b[0;34m(\u001b[0m\u001b[0mhgt\u001b[0m\u001b[0;34m)\u001b[0m\u001b[0;34m,\u001b[0m\u001b[0;36m0\u001b[0m\u001b[0;34m,\u001b[0m\u001b[0;36m6000\u001b[0m\u001b[0;34m,\u001b[0m\u001b[0mterrain\u001b[0m\u001b[0;34m)\u001b[0m\u001b[0;34m\u001b[0m\u001b[0;34m\u001b[0m\u001b[0m\n\u001b[0;32m--> 325\u001b[0;31m         \u001b[0mus6\u001b[0m\u001b[0;34m,\u001b[0m \u001b[0mvs6\u001b[0m \u001b[0;34m=\u001b[0m \u001b[0mget_shear_hgt\u001b[0m\u001b[0;34m(\u001b[0m\u001b[0mnp\u001b[0m\u001b[0;34m.\u001b[0m\u001b[0mcopy\u001b[0m\u001b[0;34m(\u001b[0m\u001b[0mu\u001b[0m\u001b[0;34m)\u001b[0m\u001b[0;34m,\u001b[0m \u001b[0mnp\u001b[0m\u001b[0;34m.\u001b[0m\u001b[0mcopy\u001b[0m\u001b[0;34m(\u001b[0m\u001b[0mv\u001b[0m\u001b[0;34m)\u001b[0m\u001b[0;34m,\u001b[0m \u001b[0mnp\u001b[0m\u001b[0;34m.\u001b[0m\u001b[0mcopy\u001b[0m\u001b[0;34m(\u001b[0m\u001b[0mhgt\u001b[0m\u001b[0;34m)\u001b[0m\u001b[0;34m,\u001b[0m \u001b[0;36m0\u001b[0m\u001b[0;34m,\u001b[0m \u001b[0;36m6000\u001b[0m\u001b[0;34m,\u001b[0m \u001b[0mterrain\u001b[0m\u001b[0;34m,\u001b[0m \u001b[0mcomponents\u001b[0m\u001b[0;34m=\u001b[0m\u001b[0;32mTrue\u001b[0m\u001b[0;34m)\u001b[0m\u001b[0;34m\u001b[0m\u001b[0;34m\u001b[0m\u001b[0m\n\u001b[0m\u001b[1;32m    326\u001b[0m         \u001b[0mtmp\u001b[0m \u001b[0;34m=\u001b[0m \u001b[0;36m7.5\u001b[0m \u001b[0;34m/\u001b[0m \u001b[0;34m(\u001b[0m\u001b[0mnp\u001b[0m\u001b[0;34m.\u001b[0m\u001b[0msqrt\u001b[0m\u001b[0;34m(\u001b[0m\u001b[0mnp\u001b[0m\u001b[0;34m.\u001b[0m\u001b[0msquare\u001b[0m\u001b[0;34m(\u001b[0m\u001b[0mus6\u001b[0m\u001b[0;34m)\u001b[0m \u001b[0;34m+\u001b[0m \u001b[0mnp\u001b[0m\u001b[0;34m.\u001b[0m\u001b[0msquare\u001b[0m\u001b[0;34m(\u001b[0m\u001b[0mvs6\u001b[0m\u001b[0;34m)\u001b[0m\u001b[0;34m)\u001b[0m\u001b[0;34m)\u001b[0m\u001b[0;34m\u001b[0m\u001b[0;34m\u001b[0m\u001b[0m\n\u001b[1;32m    327\u001b[0m         \u001b[0mu_storm_right\u001b[0m \u001b[0;34m=\u001b[0m \u001b[0mmnu6\u001b[0m \u001b[0;34m+\u001b[0m \u001b[0;34m(\u001b[0m\u001b[0mtmp\u001b[0m \u001b[0;34m*\u001b[0m \u001b[0mvs6\u001b[0m\u001b[0;34m)\u001b[0m\u001b[0;34m\u001b[0m\u001b[0;34m\u001b[0m\u001b[0m\n",
      "\u001b[0;32m~/working/ExtremeWind/wrf_parallel.py\u001b[0m in \u001b[0;36mget_shear_hgt\u001b[0;34m(u, v, hgt, hgt_bot, hgt_top, terrain, components)\u001b[0m\n\u001b[1;32m    240\u001b[0m         \u001b[0;31m#hgt [levels,lat,lon]\u001b[0m\u001b[0;34m\u001b[0m\u001b[0;34m\u001b[0m\u001b[0m\n\u001b[1;32m    241\u001b[0m \u001b[0;34m\u001b[0m\u001b[0m\n\u001b[0;32m--> 242\u001b[0;31m         \u001b[0mubot\u001b[0m \u001b[0;34m=\u001b[0m \u001b[0mget_var_hgt_lvl\u001b[0m\u001b[0;34m(\u001b[0m\u001b[0mu\u001b[0m\u001b[0;34m,\u001b[0m \u001b[0mnp\u001b[0m\u001b[0;34m.\u001b[0m\u001b[0mcopy\u001b[0m\u001b[0;34m(\u001b[0m\u001b[0mhgt\u001b[0m\u001b[0;34m)\u001b[0m\u001b[0;34m,\u001b[0m \u001b[0mhgt_bot\u001b[0m\u001b[0;34m,\u001b[0m \u001b[0mterrain\u001b[0m\u001b[0;34m)\u001b[0m\u001b[0;34m\u001b[0m\u001b[0;34m\u001b[0m\u001b[0m\n\u001b[0m\u001b[1;32m    243\u001b[0m         \u001b[0mvbot\u001b[0m \u001b[0;34m=\u001b[0m \u001b[0mget_var_hgt_lvl\u001b[0m\u001b[0;34m(\u001b[0m\u001b[0mv\u001b[0m\u001b[0;34m,\u001b[0m \u001b[0mnp\u001b[0m\u001b[0;34m.\u001b[0m\u001b[0mcopy\u001b[0m\u001b[0;34m(\u001b[0m\u001b[0mhgt\u001b[0m\u001b[0;34m)\u001b[0m\u001b[0;34m,\u001b[0m \u001b[0mhgt_bot\u001b[0m\u001b[0;34m,\u001b[0m \u001b[0mterrain\u001b[0m\u001b[0;34m)\u001b[0m\u001b[0;34m\u001b[0m\u001b[0;34m\u001b[0m\u001b[0m\n\u001b[1;32m    244\u001b[0m         \u001b[0mutop\u001b[0m \u001b[0;34m=\u001b[0m \u001b[0mget_var_hgt_lvl\u001b[0m\u001b[0;34m(\u001b[0m\u001b[0mu\u001b[0m\u001b[0;34m,\u001b[0m \u001b[0mnp\u001b[0m\u001b[0;34m.\u001b[0m\u001b[0mcopy\u001b[0m\u001b[0;34m(\u001b[0m\u001b[0mhgt\u001b[0m\u001b[0;34m)\u001b[0m\u001b[0;34m,\u001b[0m \u001b[0mhgt_top\u001b[0m\u001b[0;34m,\u001b[0m \u001b[0mterrain\u001b[0m\u001b[0;34m)\u001b[0m\u001b[0;34m\u001b[0m\u001b[0;34m\u001b[0m\u001b[0m\n",
      "\u001b[0;32m~/working/ExtremeWind/wrf_parallel.py\u001b[0m in \u001b[0;36mget_var_hgt_lvl\u001b[0;34m(var, hgt, desired_hgt, terrain)\u001b[0m\n\u001b[1;32m    550\u001b[0m         \u001b[0mhgt\u001b[0m \u001b[0;34m=\u001b[0m \u001b[0mhgt\u001b[0m \u001b[0;34m-\u001b[0m \u001b[0mterrain\u001b[0m\u001b[0;34m\u001b[0m\u001b[0;34m\u001b[0m\u001b[0m\n\u001b[1;32m    551\u001b[0m         \u001b[0minterp_var\u001b[0m \u001b[0;34m=\u001b[0m \u001b[0mwrf\u001b[0m\u001b[0;34m.\u001b[0m\u001b[0minterplevel\u001b[0m\u001b[0;34m(\u001b[0m\u001b[0mvar\u001b[0m\u001b[0;34m,\u001b[0m\u001b[0mhgt\u001b[0m\u001b[0;34m,\u001b[0m\u001b[0mdesired_hgt\u001b[0m\u001b[0;34m,\u001b[0m\u001b[0mmeta\u001b[0m\u001b[0;34m=\u001b[0m\u001b[0;32mFalse\u001b[0m\u001b[0;34m)\u001b[0m\u001b[0;34m\u001b[0m\u001b[0;34m\u001b[0m\u001b[0m\n\u001b[0;32m--> 552\u001b[0;31m         \u001b[0minterp_var\u001b[0m\u001b[0;34m[\u001b[0m\u001b[0mhgt\u001b[0m\u001b[0;34m[\u001b[0m\u001b[0;36m0\u001b[0m\u001b[0;34m]\u001b[0m \u001b[0;34m>=\u001b[0m \u001b[0mdesired_hgt\u001b[0m\u001b[0;34m]\u001b[0m \u001b[0;34m=\u001b[0m \u001b[0mvar\u001b[0m\u001b[0;34m[\u001b[0m\u001b[0;36m0\u001b[0m\u001b[0;34m,\u001b[0m\u001b[0mhgt\u001b[0m\u001b[0;34m[\u001b[0m\u001b[0;36m0\u001b[0m\u001b[0;34m]\u001b[0m \u001b[0;34m>=\u001b[0m \u001b[0mdesired_hgt\u001b[0m\u001b[0;34m]\u001b[0m\u001b[0;34m\u001b[0m\u001b[0;34m\u001b[0m\u001b[0m\n\u001b[0m\u001b[1;32m    553\u001b[0m         \u001b[0minterp_var\u001b[0m\u001b[0;34m[\u001b[0m\u001b[0;34m(\u001b[0m\u001b[0mnp\u001b[0m\u001b[0;34m.\u001b[0m\u001b[0mwhere\u001b[0m\u001b[0;34m(\u001b[0m\u001b[0mhgt\u001b[0m\u001b[0;34m==\u001b[0m\u001b[0mdesired_hgt\u001b[0m\u001b[0;34m)\u001b[0m\u001b[0;34m)\u001b[0m\u001b[0;34m[\u001b[0m\u001b[0;36m1\u001b[0m\u001b[0;34m]\u001b[0m\u001b[0;34m,\u001b[0m\u001b[0;34m(\u001b[0m\u001b[0mnp\u001b[0m\u001b[0;34m.\u001b[0m\u001b[0mwhere\u001b[0m\u001b[0;34m(\u001b[0m\u001b[0mhgt\u001b[0m\u001b[0;34m==\u001b[0m\u001b[0mdesired_hgt\u001b[0m\u001b[0;34m)\u001b[0m\u001b[0;34m)\u001b[0m\u001b[0;34m[\u001b[0m\u001b[0;36m2\u001b[0m\u001b[0;34m]\u001b[0m\u001b[0;34m]\u001b[0m \u001b[0;34m=\u001b[0m \u001b[0mvar\u001b[0m\u001b[0;34m[\u001b[0m\u001b[0mhgt\u001b[0m\u001b[0;34m==\u001b[0m\u001b[0mdesired_hgt\u001b[0m\u001b[0;34m]\u001b[0m\u001b[0;34m\u001b[0m\u001b[0;34m\u001b[0m\u001b[0m\n\u001b[1;32m    554\u001b[0m         \u001b[0;32mreturn\u001b[0m \u001b[0minterp_var\u001b[0m\u001b[0;34m\u001b[0m\u001b[0;34m\u001b[0m\u001b[0m\n",
      "\u001b[0;32m/g/data/hh5/public/apps/miniconda3/envs/analysis3-21.10/lib/python3.9/site-packages/numpy/ma/core.py\u001b[0m in \u001b[0;36m__setitem__\u001b[0;34m(self, indx, value)\u001b[0m\n\u001b[1;32m   3385\u001b[0m                 \u001b[0m_data\u001b[0m\u001b[0;34m[\u001b[0m\u001b[0mindx\u001b[0m\u001b[0;34m.\u001b[0m\u001b[0mdata\u001b[0m\u001b[0;34m]\u001b[0m \u001b[0;34m=\u001b[0m \u001b[0mdval\u001b[0m\u001b[0;34m\u001b[0m\u001b[0;34m\u001b[0m\u001b[0m\n\u001b[1;32m   3386\u001b[0m             \u001b[0;32melse\u001b[0m\u001b[0;34m:\u001b[0m\u001b[0;34m\u001b[0m\u001b[0;34m\u001b[0m\u001b[0m\n\u001b[0;32m-> 3387\u001b[0;31m                 \u001b[0m_data\u001b[0m\u001b[0;34m[\u001b[0m\u001b[0mindx\u001b[0m\u001b[0;34m]\u001b[0m \u001b[0;34m=\u001b[0m \u001b[0mdval\u001b[0m\u001b[0;34m\u001b[0m\u001b[0;34m\u001b[0m\u001b[0m\n\u001b[0m\u001b[1;32m   3388\u001b[0m                 \u001b[0m_mask\u001b[0m\u001b[0;34m[\u001b[0m\u001b[0mindx\u001b[0m\u001b[0;34m]\u001b[0m \u001b[0;34m=\u001b[0m \u001b[0mmval\u001b[0m\u001b[0;34m\u001b[0m\u001b[0;34m\u001b[0m\u001b[0m\n\u001b[1;32m   3389\u001b[0m         \u001b[0;32melif\u001b[0m \u001b[0mhasattr\u001b[0m\u001b[0;34m(\u001b[0m\u001b[0mindx\u001b[0m\u001b[0;34m,\u001b[0m \u001b[0;34m'dtype'\u001b[0m\u001b[0;34m)\u001b[0m \u001b[0;32mand\u001b[0m \u001b[0;34m(\u001b[0m\u001b[0mindx\u001b[0m\u001b[0;34m.\u001b[0m\u001b[0mdtype\u001b[0m \u001b[0;34m==\u001b[0m \u001b[0mMaskType\u001b[0m\u001b[0;34m)\u001b[0m\u001b[0;34m:\u001b[0m\u001b[0;34m\u001b[0m\u001b[0;34m\u001b[0m\u001b[0m\n",
      "\u001b[0;31mIndexError\u001b[0m: too many indices for array: array is 1-dimensional, but 2 were indexed"
     ]
    }
   ],
   "source": [
    "get_srh(u[np.newaxis,np.newaxis].T,v[np.newaxis,np.newaxis].T,z[np.newaxis,np.newaxis].T,0,6000,0)"
   ]
  },
  {
   "cell_type": "code",
   "execution_count": 81,
   "id": "03cb4fb6-a0ee-4004-a8a2-9da822ccf729",
   "metadata": {},
   "outputs": [
    {
     "data": {
      "text/plain": [
       "(37, 1, 1)"
      ]
     },
     "execution_count": 81,
     "metadata": {},
     "output_type": "execute_result"
    }
   ],
   "source": [
    "def get_srh():\n",
    "    us6 = u6 - u0\n",
    "    vs6 = v6 - v0\n",
    "    tmp = 7.5 / (np.sqrt(np.square(us6) + np.square(vs6)))\n",
    "    u_storm_right = umean06 + (tmp * vs6)\n",
    "    v_storm_right = vmean06 - (tmp * us6)\n",
    "    u_storm_left = umean06 - (tmp * vs6)\n",
    "    v_storm_left = vmean06 + (tmp * us6)\n",
    "    hgt = group.z.values - terrain\n",
    "    u = group.ua.values\n",
    "    v = group.va.values\n",
    "    \n",
    "    hgt_bot=0\n",
    "    hgt_top=6000\n",
    "    u_ma = np.ma.masked_where(np.squeeze((hgt < hgt_bot) | (hgt > hgt_top) | (np.isnan(u)) | \\\n",
    "            (np.isnan(hgt_bot)) | (np.isnan(hgt_top)) | (np.isnan(hgt))), u)\n",
    "    v_ma = np.ma.masked_where(np.squeeze((hgt < hgt_bot) | (hgt > hgt_top) | (np.isnan(v)) | \\\n",
    "            (np.isnan(hgt_bot)) | (np.isnan(hgt_top)) | (np.isnan(hgt))) , v)\n",
    "    sru_left = u_ma - u_storm_left\n",
    "    srv_left = v_ma - v_storm_left\n",
    "    layers_left = (sru_left[1:] * srv_left[:-1]) - (sru_left[:-1] * srv_left[1:])\n",
    "    srhe_left = abs(np.sum(layers_left))"
   ]
  },
  {
   "cell_type": "code",
   "execution_count": null,
   "id": "f47fdb9c-5934-449f-8cac-728ae2e3ecf4",
   "metadata": {},
   "outputs": [],
   "source": []
  },
  {
   "cell_type": "code",
   "execution_count": null,
   "id": "94387088-ea56-417a-ae47-5ceda907b628",
   "metadata": {},
   "outputs": [],
   "source": [
    "details_list = [\\\n",
    "        {\"lat\":-37.6654, \"lon\":144.8322, \"time\" : [dt.datetime(2006,9,24,1,41)], \"rid\":\"Melbourne\", \"title\":\"Melbourne\"},\\\n",
    "        {\"lat\":-37.6654, \"lon\":144.8322, \"time\" : [dt.datetime(2009,11,20,3,6)], \"rid\":\"Melbourne\", \"title\":\"Melbourne\"},\\\n",
    "        {\"lat\":-37.6654, \"lon\":144.8322, \"time\" : [dt.datetime(2010,3,6,3,30)], \"rid\":\"Melbourne\", \"title\":\"Melbourne\"},\\\n",
    "        {\"lat\":-37.6654, \"lon\":144.8322, \"time\" : [dt.datetime(2010,6,17,0,25)], \"rid\":\"Melbourne\", \"title\":\"Melbourne\"},\\\n",
    "        {\"lat\":-37.6654, \"lon\":144.8322, \"time\" : [dt.datetime(2011,11,18,7,4)], \"rid\":\"Melbourne\", \"title\":\"Melbourne\"},\\\n",
    "        {\"lat\":-37.6654, \"lon\":144.8322, \"time\" : [dt.datetime(2011,12,25,6,45)], \"rid\":\"Melbourne\", \"title\":\"Melbourne\" },\\\n",
    "        {\"lat\":-37.6654, \"lon\":144.8322, \"time\" : [dt.datetime(2012,2,26,9,11)], \"rid\":\"Melbourne\", \"title\":\"Melbourne\"},\\\n",
    "        {\"lat\":-37.6654, \"lon\":144.8322, \"time\" : [dt.datetime(2013,3,21,3,45)], \"rid\":\"Melbourne\", \"title\":\"Melbourne\" },\\\n",
    "        {\"lat\":-37.6654, \"lon\":144.8322, \"time\" : [dt.datetime(2015,2,28,9,25)], \"rid\":\"Melbourne\", \"title\":\"Melbourne\"},\\\n",
    "       \\\n",
    "        {\"lat\":-33.9465, \"lon\":151.1731, \"time\" : [dt.datetime(2010,8,2,15,43)], \"rid\":\"Sydney\", \"title\":\"Sydney\"},\\\n",
    "        {\"lat\":-33.9465, \"lon\":151.1731, \"time\" : [dt.datetime(2012,8,10,4,21)], \"rid\":\"Sydney\", \"title\":\"Sydney\"},\\\n",
    "        {\"lat\":-33.9465, \"lon\":151.1731, \"time\" : [dt.datetime(2013,2,23,13,43)], \"rid\":\"Sydney\", \"title\":\"Sydney\"},\\\n",
    "        {\"lat\":-33.9465, \"lon\":151.1731, \"time\" : [dt.datetime(2014,10,14,11,39)], \"rid\":\"Sydney\", \"title\":\"Sydney\"},\\\n",
    "        {\"lat\":-33.9465, \"lon\":151.1731, \"time\" : [dt.datetime(2015,3,1,4,34)], \"rid\":\"Sydney\", \"title\":\"Sydney\"},\\\n",
    "        {\"lat\":-33.9465, \"lon\":151.1731, \"time\" : [dt.datetime(2015,12,16,2,3)], \"rid\":\"Sydney\", \"title\":\"Sydney\"},\\\n",
    "        {\"lat\":-33.9465, \"lon\":151.1731, \"time\" : [dt.datetime(2016,1,14,4,20)], \"rid\":\"Sydney\", \"title\":\"Sydney\"},\\\n",
    "        {\"lat\":-33.9465, \"lon\":151.1731, \"time\" : [dt.datetime(2016,6,4,3,42)], \"rid\":\"Sydney\", \"title\":\"Sydney\"},\\\n",
    "        {\"lat\":-33.9465, \"lon\":151.1731, \"time\" : [dt.datetime(2017,4,9,8,3)], \"rid\":\"Sydney\", \"title\":\"Sydney\"},\\\n",
    "       \\\n",
    "        {\"lat\":-27.6297, \"lon\":152.7111, \"time\" : [dt.datetime(2010,12,16,3,25)], \"rid\":\"Amberley\", \"title\":\"Amberley\"},\\\n",
    "        {\"lat\":-27.6297, \"lon\":152.7111, \"time\" : [dt.datetime(2011,1,18,5,5)], \"rid\":\"Amberley\", \"title\":\"Amberley\"},\\\n",
    "        {\"lat\":-27.4034, \"lon\":151.7413, \"time\" : [dt.datetime(2011,10,7,19,22)], \"rid\":\"Amberley\", \"title\":\"Oakey\"},\\\n",
    "        {\"lat\":-27.4034, \"lon\":151.7413, \"time\" : [dt.datetime(2013,10,18,4,4)], \"rid\":\"Amberley\", \"title\":\"Oakey\"},\\\n",
    "        {\"lat\":-27.6297, \"lon\":152.7111, \"time\" : [dt.datetime(2013,11,23,9,45)], \"rid\":\"Amberley\", \"title\":\"Amberley\"},\\\n",
    "        {\"lat\":-27.4034, \"lon\":151.7413, \"time\" : [dt.datetime(2014,1,23,4,52)], \"rid\":\"Amberley\", \"title\":\"Oakey\"},\\\n",
    "        {\"lat\":-27.4034, \"lon\":151.7413, \"time\" : [dt.datetime(2016,1,29,4,22)], \"rid\":\"Amberley\", \"title\":\"Oakey\"},\\\n",
    "        {\"lat\":-27.6297, \"lon\":152.7111, \"time\" : [dt.datetime(2016,12,18,4,14)], \"rid\":\"Amberley\", \"title\":\"Amberley\"},\\\n",
    "        {\"lat\":-27.4034, \"lon\":151.7413, \"time\" : [dt.datetime(2018,2,13,7,5)], \"rid\":\"Amberley\", \"title\":\"Oakey\"},\\\n",
    "       \\\n",
    "        {\"lat\":-31.1558, \"lon\":136.8054, \"time\" : [dt.datetime(2007,10,27,9,3)], \"rid\":\"Woomera\", \"title\":\"Woomera\"},\\\n",
    "        {\"lat\":-31.1558, \"lon\":136.8054, \"time\" : [dt.datetime(2008,12,9,6,18)], \"rid\":\"Woomera\", \"title\":\"Woomera\"},\\\n",
    "        {\"lat\":-31.1558, \"lon\":136.8054, \"time\" : [dt.datetime(2010,12,7,9,27)], \"rid\":\"Woomera\", \"title\":\"Woomera\"},\\\n",
    "        {\"lat\":-31.1558, \"lon\":136.8054, \"time\" : [dt.datetime(2011,11,8,9,47)], \"rid\":\"Woomera\", \"title\":\"Woomera\"},\\\n",
    "        {\"lat\":-31.1558, \"lon\":136.8054, \"time\" : [dt.datetime(2012,1,29,4,42)], \"rid\":\"Woomera\", \"title\":\"Woomera\"},\\\n",
    "        {\"lat\":-31.1558, \"lon\":136.8054, \"time\" : [dt.datetime(2012,11,30,8,33)], \"rid\":\"Woomera\", \"title\":\"Woomera\"},\\\n",
    "        {\"lat\":-31.1558, \"lon\":136.8054, \"time\" : [dt.datetime(2014,10,31,7,52)], \"rid\":\"Woomera\", \"title\":\"Woomera\"},\\\n",
    "        {\"lat\":-31.1558, \"lon\":136.8054, \"time\" : [dt.datetime(2015,12,7,11,20)], \"rid\":\"Woomera\", \"title\":\"Woomera\"},\\\n",
    "        {\"lat\":-31.1558, \"lon\":136.8054, \"time\" : [dt.datetime(2017,12,18,11,30)], \"rid\":\"Woomera\", \"title\":\"Woomera\"},\\\n",
    "         ]\n",
    "\n",
    "profs = []\n",
    "mupcls = []\n",
    "for details in tqdm.tqdm(details_list):\n",
    "    prof, mu_pcl = plot_sounding(details[\"time\"][0],details[\"lat\"],details[\"lon\"], plot=False)\n",
    "    profs.append(prof)\n",
    "    mupcls.append(mu_pcl)"
   ]
  }
 ],
 "metadata": {
  "kernelspec": {
   "display_name": "Python [conda env:analysis3-21.10]",
   "language": "python",
   "name": "conda-env-analysis3-21.10-py"
  },
  "language_info": {
   "codemirror_mode": {
    "name": "ipython",
    "version": 3
   },
   "file_extension": ".py",
   "mimetype": "text/x-python",
   "name": "python",
   "nbconvert_exporter": "python",
   "pygments_lexer": "ipython3",
   "version": "3.9.9"
  }
 },
 "nbformat": 4,
 "nbformat_minor": 5
}
