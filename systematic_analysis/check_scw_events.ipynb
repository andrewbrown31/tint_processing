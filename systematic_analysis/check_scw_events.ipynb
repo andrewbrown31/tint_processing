{
 "cells": [
  {
   "cell_type": "code",
   "execution_count": 1,
   "id": "88c8e645-e4d5-4ba5-875f-cc23dae8a6ba",
   "metadata": {},
   "outputs": [
    {
     "name": "stdout",
     "output_type": "stream",
     "text": [
      "\n",
      "## You are using the Python ARM Radar Toolkit (Py-ART), an open source\n",
      "## library for working with weather radar data. Py-ART is partly\n",
      "## supported by the U.S. Department of Energy as part of the Atmospheric\n",
      "## Radiation Measurement (ARM) Climate Research Facility, an Office of\n",
      "## Science user facility.\n",
      "##\n",
      "## If you use this software to prepare a publication, please cite:\n",
      "##\n",
      "##     JJ Helmus and SM Collis, JORS 2016, doi: 10.5334/jors.119\n",
      "\n"
     ]
    }
   ],
   "source": [
    "import pandas as pd\n",
    "import matplotlib.pyplot as plt\n",
    "import datetime as dt\n",
    "import glob\n",
    "import numpy as np\n",
    "import xarray as xr\n",
    "import pyart\n",
    "import cartopy.crs as ccrs\n",
    "import tqdm"
   ]
  },
  {
   "cell_type": "code",
   "execution_count": 2,
   "id": "f8e1154f-1d23-46b0-9537-c8be172a277a",
   "metadata": {},
   "outputs": [],
   "source": [
    "def last_day_of_month(any_day):\n",
    "    # get close to the end of the month for any day, and add 4 days 'over'\n",
    "    next_month = any_day.replace(day=28) + dt.timedelta(days=4)\n",
    "    # subtract the number of remaining 'overage' days to get last day of current month, or said programattically said, the previous day of the first of next month\n",
    "    return next_month - dt.timedelta(days=next_month.day)\n",
    "\n",
    "def plot_gust(rid, time, stn, ax):\n",
    "    time2 = last_day_of_month(time)\n",
    "    fid1 = time.replace(day=1).strftime(\"%Y%m%d\")\n",
    "    fid2 = time2.strftime(\"%Y%m%d\")\n",
    "    df=pd.read_pickle(\"/g/data/eg3/ab4502/ExtremeWind/points/era5_aws_tint_\"+rid+\"_\"+fid1+\"_\"+fid2+\"_max.pkl\")\n",
    "    df[\"dt_utc\"] = pd.DatetimeIndex(df[\"dt_utc\"])\n",
    "    df.query(\"stn_id==\"+str(stn)).loc[(df[\"dt_utc\"]>=(time+dt.timedelta(hours=-6))) & (df[\"dt_utc\"]<=(time+dt.timedelta(hours=6)))]\\\n",
    "                    .set_index(\"dt_utc\").gust.plot(marker=\"x\",ax=ax)\n",
    "\n",
    "def plot_refl(time,rid,lat,lon,group_id,ax):\n",
    "    f=xr.open_dataset(\"/g/data/rq0/level_2/\"+rid+\"/COLUMNMAXREFLECTIVITY/\"+rid+\"_\"+time.strftime(\"%Y%m%d\")+\"_columnmaxreflectivity.nc\")\\\n",
    "                .interp({\"time\":dt.datetime.strptime(group_id[0:14],\"%Y%m%d%H%M%S\")},method=\"nearest\")\n",
    "    refl = f.columnmaxreflectivity.values\n",
    "    x = f.longitude.values\n",
    "    y = f.latitude.values\n",
    "    \n",
    "    plt.contourf(x,y,refl,levels=np.linspace(0,70,21),cmap=pyart.graph.cm_colorblind.HomeyerRainbow)    \n",
    "    cb=plt.colorbar()\n",
    "    cb.set_label(\"Column maximum reflectivity (dBZ)\")\n",
    "    ax.plot(lon, lat, marker=\"^\", mew=2, ms=10, color=\"lightgray\", mec=\"k\")\n",
    "    ax.coastlines(lw=2,ls=\"-\")\n",
    "    g1=ax.gridlines(draw_labels=True,ls=\":\"); g1.right_labels=False; g1.top_labels=False\n",
    "    plt.contour(x,y,refl>30,colors=\"k\",linewidths=0.25)\n",
    "    plt.title(f.time.values)\n",
    "    \n",
    "def plot_driver(rid,state,display=True):\n",
    "    scw_events = pd.read_csv(\"/g/data/eg3/ab4502/ExtremeWind/points/\"+rid+\"_scw_envs_df.csv\")\n",
    "    stn_info = load_stn_info(state)\n",
    "    print(str(scw_events.shape[0]) + \" SCW events...\")\n",
    "    for name, row in tqdm.tqdm(scw_events.iterrows()):\n",
    "        plt.figure(figsize=[16,8])\n",
    "        plt.suptitle(row.dt_utc+\"\\n\"+str(row.gust)+\" m/s\"+\"\\n\"+\"Station id: \"+str(row.stn_id))            \n",
    "        plot_gust(rid,pd.to_datetime(row.dt_utc),row.stn_id,plt.subplot(1,2,1))\n",
    "        plot_refl(pd.to_datetime(row.dt_utc),rid,stn_info.query(\"stn_no==\"+str(row.stn_id)).lat,stn_info.query(\"stn_no==\"+str(row.stn_id)).lon\n",
    "                  ,row.group_id,plt.subplot(1,2,2,projection=ccrs.PlateCarree()))\n",
    "        plt.savefig(\"/g/data/eg3/ab4502/figs/scw_figs_wgr2/\"+rid+\"_\"+pd.to_datetime(row.dt_utc).strftime(\"%Y-%m-%d_%H:%M\")+\".png\",bbox_inches=\"tight\")\n",
    "        if display:\n",
    "            pass\n",
    "        else:\n",
    "            plt.close()\n",
    "\n",
    "def load_stn_info(state):\n",
    "\n",
    "        #Load station info\n",
    "        names = [\"id\", \"stn_no\", \"district\", \"stn_name\", \"site_open\", \"site_close\", \"lat\", \"lon\", \"latlon_method\", \"state\",\\\n",
    "                        \"hgt_asl\", \"hgt_asl_baro\", \"wmo_idx\", \"y1\", \"y2\", \"comp%\", \"Y%\", \"N%\", \"W%\", \"S%\", \"I%\", \"#\"]\n",
    "\n",
    "        if state == \"vic_nsw\":\n",
    "                stn_info1 = pd.read_csv(glob.glob(\"/g/data/eg3/ab4502/ExtremeWind/obs/aws/vic_one_min_gust/HD01D_StnDet_*.txt\")[0],\\\n",
    "                        names=names, header=0)\n",
    "                stn_info2 = pd.read_csv(glob.glob(\"/g/data/eg3/ab4502/ExtremeWind/obs/aws/nsw_one_min_gust/HD01D_StnDet_*.txt\")[0],\\\n",
    "                        names=names, header=0)\n",
    "                stn_info = pd.concat([stn_info1, stn_info2], axis=0)\n",
    "        elif state==\"nt\":\n",
    "                stn_info = pd.concat(\\\n",
    "                    [pd.read_csv(f, names=names, header=None) for f in glob.glob(\"/g/data/eg3/ab4502/ExtremeWind/obs/aws/nt_one_min_gust/HD01D_StnDet_*.txt\")],axis=0).\\\n",
    "                    sort_values(\"stn_name\")\n",
    "        elif state==\"tas\":\n",
    "                stn_info = pd.concat(\\\n",
    "                    [pd.read_csv(f, names=names, header=None) for f in glob.glob(\"/g/data/eg3/ab4502/ExtremeWind/obs/aws/tas_one_min_gust/HD01D_StnDet_*.txt\")],axis=0).\\\n",
    "                    sort_values(\"stn_name\")\n",
    "        else:\n",
    "                stn_info = pd.read_csv(glob.glob(\"/g/data/eg3/ab4502/ExtremeWind/obs/aws/\"+state+\"_one_min_gust/HD01D_StnDet_*.txt\")[0],\\\n",
    "                        names=names, header=0)\n",
    "        return stn_info\n"
   ]
  },
  {
   "cell_type": "code",
   "execution_count": 4,
   "id": "b2e9ab2c-3d0a-4427-9e8c-8629e12a8221",
   "metadata": {},
   "outputs": [
    {
     "name": "stdout",
     "output_type": "stream",
     "text": [
      "36 SCW events...\n"
     ]
    },
    {
     "name": "stderr",
     "output_type": "stream",
     "text": [
      "36it [00:48,  1.34s/it]\n"
     ]
    }
   ],
   "source": [
    "#Darwin\n",
    "plot_driver(\"63\",\"nt\",display=False)"
   ]
  },
  {
   "cell_type": "code",
   "execution_count": 5,
   "id": "6ff0aeab-18df-4e01-b9ef-91e2ec7fc6a7",
   "metadata": {},
   "outputs": [
    {
     "name": "stdout",
     "output_type": "stream",
     "text": [
      "45 SCW events...\n"
     ]
    },
    {
     "name": "stderr",
     "output_type": "stream",
     "text": [
      "45it [00:53,  1.20s/it]\n"
     ]
    }
   ],
   "source": [
    "#Hobart\n",
    "plot_driver(\"76\",\"tas\",display=False)"
   ]
  },
  {
   "cell_type": "code",
   "execution_count": 6,
   "id": "a3840ad2-8fa6-4f13-97f1-96b98b360ee5",
   "metadata": {},
   "outputs": [
    {
     "name": "stdout",
     "output_type": "stream",
     "text": [
      "85 SCW events...\n"
     ]
    },
    {
     "name": "stderr",
     "output_type": "stream",
     "text": [
      "85it [04:22,  3.09s/it]\n"
     ]
    }
   ],
   "source": [
    "#Melbourne\n",
    "plot_driver(\"2\",\"vic\",display=False)"
   ]
  },
  {
   "cell_type": "code",
   "execution_count": 7,
   "id": "c46a4e90-8b5f-4a9d-9e0a-53bd9ad6403f",
   "metadata": {},
   "outputs": [
    {
     "name": "stdout",
     "output_type": "stream",
     "text": [
      "18 SCW events...\n"
     ]
    },
    {
     "name": "stderr",
     "output_type": "stream",
     "text": [
      "18it [00:40,  2.24s/it]\n"
     ]
    }
   ],
   "source": [
    "#Newcastle\n",
    "plot_driver(\"4\",\"nsw\",display=False)"
   ]
  },
  {
   "cell_type": "code",
   "execution_count": 8,
   "id": "7dd6650d-9a03-4947-bdf9-3c415385b3f2",
   "metadata": {},
   "outputs": [
    {
     "name": "stdout",
     "output_type": "stream",
     "text": [
      "20 SCW events...\n"
     ]
    },
    {
     "name": "stderr",
     "output_type": "stream",
     "text": [
      "20it [00:36,  1.81s/it]\n"
     ]
    }
   ],
   "source": [
    "#Gympie\n",
    "plot_driver(\"8\",\"qld\",display=False)"
   ]
  },
  {
   "cell_type": "code",
   "execution_count": 9,
   "id": "8471b735-e11a-4b7a-addf-2c1194bad16f",
   "metadata": {},
   "outputs": [
    {
     "name": "stdout",
     "output_type": "stream",
     "text": [
      "0 SCW events...\n"
     ]
    },
    {
     "name": "stderr",
     "output_type": "stream",
     "text": [
      "0it [00:00, ?it/s]\n"
     ]
    }
   ],
   "source": [
    "#Cairns\n",
    "plot_driver(\"19\",\"qld\",display=False)"
   ]
  },
  {
   "cell_type": "code",
   "execution_count": 10,
   "id": "c1429479-38e3-4203-9379-f33132f2ba83",
   "metadata": {},
   "outputs": [
    {
     "name": "stdout",
     "output_type": "stream",
     "text": [
      "10 SCW events...\n"
     ]
    },
    {
     "name": "stderr",
     "output_type": "stream",
     "text": [
      "10it [00:19,  1.98s/it]\n"
     ]
    }
   ],
   "source": [
    "#Canberra\n",
    "plot_driver(\"40\",\"nsw\",display=False)"
   ]
  },
  {
   "cell_type": "code",
   "execution_count": 11,
   "id": "c96fbee6-52cd-47f2-a459-4e6e5bdeb0a6",
   "metadata": {},
   "outputs": [
    {
     "name": "stdout",
     "output_type": "stream",
     "text": [
      "4 SCW events...\n"
     ]
    },
    {
     "name": "stderr",
     "output_type": "stream",
     "text": [
      "4it [00:03,  1.06it/s]\n"
     ]
    }
   ],
   "source": [
    "#Kalgoorlie\n",
    "plot_driver(\"48\",\"wa\",display=False)"
   ]
  },
  {
   "cell_type": "code",
   "execution_count": 12,
   "id": "2081d639-20ca-44c4-b56a-51777dba6b96",
   "metadata": {},
   "outputs": [
    {
     "name": "stdout",
     "output_type": "stream",
     "text": [
      "21 SCW events...\n"
     ]
    },
    {
     "name": "stderr",
     "output_type": "stream",
     "text": [
      "21it [00:36,  1.76s/it]\n"
     ]
    }
   ],
   "source": [
    "#Yarrawonga\n",
    "plot_driver(\"49\",\"vic_nsw\",display=False)"
   ]
  },
  {
   "cell_type": "code",
   "execution_count": 13,
   "id": "30c9a56f-04f6-4b69-b5a0-7230e7c476c3",
   "metadata": {},
   "outputs": [
    {
     "name": "stdout",
     "output_type": "stream",
     "text": [
      "26 SCW events...\n"
     ]
    },
    {
     "name": "stderr",
     "output_type": "stream",
     "text": [
      "26it [01:24,  3.24s/it]\n"
     ]
    }
   ],
   "source": [
    "#Adelaide\n",
    "plot_driver(\"64\",\"sa\",display=False)"
   ]
  },
  {
   "cell_type": "code",
   "execution_count": 14,
   "id": "f0b4fd52-e215-4630-82fc-79a636fc3d62",
   "metadata": {},
   "outputs": [
    {
     "name": "stdout",
     "output_type": "stream",
     "text": [
      "24 SCW events...\n"
     ]
    },
    {
     "name": "stderr",
     "output_type": "stream",
     "text": [
      "24it [00:50,  2.10s/it]\n"
     ]
    }
   ],
   "source": [
    "#Brisbane\n",
    "plot_driver(\"66\",\"qld\",display=False)"
   ]
  },
  {
   "cell_type": "code",
   "execution_count": 15,
   "id": "1719f94f-4092-490c-a493-9de3388989fe",
   "metadata": {},
   "outputs": [
    {
     "name": "stdout",
     "output_type": "stream",
     "text": [
      "8 SCW events...\n"
     ]
    },
    {
     "name": "stderr",
     "output_type": "stream",
     "text": [
      "8it [00:16,  2.05s/it]\n"
     ]
    }
   ],
   "source": [
    "#Bairnsdale\n",
    "plot_driver(\"68\",\"vic\",display=False)"
   ]
  },
  {
   "cell_type": "code",
   "execution_count": 16,
   "id": "a020b3bc-a37d-4a54-be53-609178097cf5",
   "metadata": {},
   "outputs": [
    {
     "name": "stdout",
     "output_type": "stream",
     "text": [
      "49 SCW events...\n"
     ]
    },
    {
     "name": "stderr",
     "output_type": "stream",
     "text": [
      "49it [01:02,  1.27s/it]\n"
     ]
    }
   ],
   "source": [
    "#Namoi\n",
    "plot_driver(\"69\",\"nsw\",display=False)"
   ]
  },
  {
   "cell_type": "code",
   "execution_count": 17,
   "id": "324aef85-c3b9-48b8-8839-83af2adf6962",
   "metadata": {},
   "outputs": [
    {
     "name": "stdout",
     "output_type": "stream",
     "text": [
      "22 SCW events...\n"
     ]
    },
    {
     "name": "stderr",
     "output_type": "stream",
     "text": [
      "22it [00:45,  2.09s/it]\n"
     ]
    }
   ],
   "source": [
    "#Perth\n",
    "plot_driver(\"70\",\"wa\",display=False)"
   ]
  },
  {
   "cell_type": "code",
   "execution_count": 18,
   "id": "3afa52d6-36b4-4e04-9f93-6f4564c38b42",
   "metadata": {},
   "outputs": [
    {
     "name": "stdout",
     "output_type": "stream",
     "text": [
      "33 SCW events...\n"
     ]
    },
    {
     "name": "stderr",
     "output_type": "stream",
     "text": [
      "33it [01:50,  3.34s/it]\n"
     ]
    }
   ],
   "source": [
    "#Sydney\n",
    "plot_driver(\"71\",\"nsw\",display=False)"
   ]
  },
  {
   "cell_type": "code",
   "execution_count": 19,
   "id": "8def8ecc-c5ab-48a0-9269-814251145b63",
   "metadata": {},
   "outputs": [
    {
     "name": "stdout",
     "output_type": "stream",
     "text": [
      "12 SCW events...\n"
     ]
    },
    {
     "name": "stderr",
     "output_type": "stream",
     "text": [
      "12it [00:12,  1.00s/it]\n"
     ]
    }
   ],
   "source": [
    "#Emerald\n",
    "plot_driver(\"72\",\"qld\",display=False)"
   ]
  },
  {
   "cell_type": "code",
   "execution_count": 20,
   "id": "cf233ee0-4d06-4248-a456-6175580bb611",
   "metadata": {},
   "outputs": [
    {
     "name": "stdout",
     "output_type": "stream",
     "text": [
      "3 SCW events...\n"
     ]
    },
    {
     "name": "stderr",
     "output_type": "stream",
     "text": [
      "3it [00:04,  1.52s/it]\n"
     ]
    }
   ],
   "source": [
    "#Townsville\n",
    "plot_driver(\"73\",\"qld\",display=False)"
   ]
  },
  {
   "cell_type": "code",
   "execution_count": 21,
   "id": "abdaa145-0806-41a2-9ca5-4925449179a8",
   "metadata": {},
   "outputs": [
    {
     "name": "stdout",
     "output_type": "stream",
     "text": [
      "14 SCW events...\n"
     ]
    },
    {
     "name": "stderr",
     "output_type": "stream",
     "text": [
      "14it [00:21,  1.53s/it]\n"
     ]
    }
   ],
   "source": [
    "#Mt. Isa\n",
    "plot_driver(\"75\",\"qld\",display=False)"
   ]
  },
  {
   "cell_type": "code",
   "execution_count": 22,
   "id": "a90f6148-fb79-44f6-af37-f914229bd542",
   "metadata": {},
   "outputs": [
    {
     "name": "stdout",
     "output_type": "stream",
     "text": [
      "1 SCW events...\n"
     ]
    },
    {
     "name": "stderr",
     "output_type": "stream",
     "text": [
      "1it [00:01,  1.17s/it]\n"
     ]
    }
   ],
   "source": [
    "#Weipa\n",
    "plot_driver(\"78\",\"qld\",display=False)"
   ]
  },
  {
   "cell_type": "code",
   "execution_count": null,
   "id": "e5a643f8-8a6b-4596-8054-75674a09650c",
   "metadata": {},
   "outputs": [],
   "source": []
  }
 ],
 "metadata": {
  "kernelspec": {
   "display_name": "Python [conda env:analysis3]",
   "language": "python",
   "name": "conda-env-analysis3-py"
  },
  "language_info": {
   "codemirror_mode": {
    "name": "ipython",
    "version": 3
   },
   "file_extension": ".py",
   "mimetype": "text/x-python",
   "name": "python",
   "nbconvert_exporter": "python",
   "pygments_lexer": "ipython3",
   "version": "3.9.12"
  }
 },
 "nbformat": 4,
 "nbformat_minor": 5
}
