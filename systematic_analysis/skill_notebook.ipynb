{
 "cells": [
  {
   "cell_type": "code",
   "execution_count": null,
   "id": "b58b54f0-da21-4e81-a6b6-1bfd2aaf30c4",
   "metadata": {},
   "outputs": [],
   "source": [
    "def skills(df, t, p=\"bdsd\", event=\"scw\"):\n",
    "    hits = float(((df[event]==1) & (df[p]>t)).sum())\n",
    "    misses = float(((df[event]==1) & (df[p]<=t)).sum())\n",
    "    fa = float(((df[event]==0) & (df[p]>t)).sum())\n",
    "    cn = float(((df[event]==0) & (df[p]<=t)).sum())\n",
    "    \n",
    "    try:\n",
    "        pod = hits / (hits+misses)\n",
    "    except:\n",
    "        pod = np.nan\n",
    "        \n",
    "    try:\n",
    "        far = fa / (hits+fa)\n",
    "    except:\n",
    "        far = np.nan\n",
    "    \n",
    "    try:\n",
    "        bias = (hits + fa) / (hits + misses)\n",
    "    except:\n",
    "        bias = np.nan    \n",
    "        \n",
    "    try:\n",
    "        csi = hits / (hits + misses + fa)\n",
    "    except:\n",
    "        csi = np.nan    \n",
    "    \n",
    "    try:\n",
    "        hss = ( 2*(hits*cn - misses*fa) ) / \\\n",
    "            ( misses*misses + fa*fa + 2*hits*cn + (misses + fa) * (hits + cn) )\n",
    "    except:\n",
    "        hss = np.nan\n",
    "    \n",
    "    try:\n",
    "        tss = (hits / (hits+misses)) - (fa / (fa + cn))\n",
    "    except:\n",
    "        tss = np.nan\n",
    "    \n",
    "    return pod, far, bias, csi, hss, tss"
   ]
  },
  {
   "cell_type": "code",
   "execution_count": null,
   "id": "f0ed4753-00a6-480e-89c5-194b1e4d238c",
   "metadata": {},
   "outputs": [],
   "source": [
    "#DF here is the same as in non_event_analyis.py\n",
    "\n",
    "df4 = pd.concat([df3.query(\"scw==1\"), df3.iloc[np.random.randint(0,df3.shape[0],df3.scw.sum())]],axis=0)\n",
    "thresh = np.linspace(0,1,100)\n",
    "pod = []; far = []; bias = []; csi = []; hss = []; tss= []\n",
    "for t in thresh:\n",
    "    p, f, b, c, h, ts = skills(df2, t)\n",
    "    pod.append(p); far.append(f); bias.append(b); csi.append(c); hss.append(h); tss.append(ts)\n",
    "    \n",
    "plt.plot(thresh, hss)"
   ]
  }
 ],
 "metadata": {
  "kernelspec": {
   "display_name": "Python [conda env:miniconda3]",
   "language": "python",
   "name": "conda-env-miniconda3-py"
  },
  "language_info": {
   "codemirror_mode": {
    "name": "ipython",
    "version": 3
   },
   "file_extension": ".py",
   "mimetype": "text/x-python",
   "name": "python",
   "nbconvert_exporter": "python",
   "pygments_lexer": "ipython3",
   "version": "3.7.6"
  }
 },
 "nbformat": 4,
 "nbformat_minor": 5
}
