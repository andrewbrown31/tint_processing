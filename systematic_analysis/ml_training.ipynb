{
 "cells": [
  {
   "cell_type": "code",
   "execution_count": 1,
   "id": "85ef96cd-22a8-4938-a133-4e93a972a8bd",
   "metadata": {},
   "outputs": [],
   "source": [
    "import pandas as pd\n",
    "import numpy as np\n",
    "from sklearn.linear_model import LogisticRegression\n",
    "from sklearn.metrics import roc_auc_score\n",
    "from sklearn.utils import resample\n",
    "from sklearn.model_selection import StratifiedShuffleSplit\n",
    "from sklearn.preprocessing import MinMaxScaler\n",
    "from sklearn.cluster import KMeans\n",
    "import tqdm\n",
    "import matplotlib.pyplot as plt\n",
    "from imblearn.ensemble import BalancedBaggingClassifier, BalancedRandomForestClassifier\n",
    "from pygam import LogisticGAM, s, f, te\n",
    "import xarray as xr\n",
    "import glob\n",
    "import netCDF4 as nc"
   ]
  },
  {
   "cell_type": "code",
   "execution_count": 2,
   "id": "d10ba792-357a-412a-b0bd-207af624209c",
   "metadata": {},
   "outputs": [],
   "source": [
    "def load_scws(rid,tz):\n",
    "    print(\"loading \"+rid+\"...\")\n",
    "    df1 = pd.read_csv(\"/g/data/eg3/ab4502/ExtremeWind/points/\"+rid+\"_scw_envs_df.csv\")\n",
    "    df2 = pd.read_csv(\"/g/data/eg3/ab4502/ExtremeWind/points/\"+rid+\"_non_scw_envs_df.csv\")\n",
    "    \n",
    "    df1[\"cluster_new\"] = df1.cluster.map({0:2,1:0,2:1})\n",
    "    df1 = df1.set_index(pd.DatetimeIndex(df1.dt_utc))\n",
    "    df1[\"month\"] = df1.index.month\n",
    "    df1[\"year\"] = df1.index.year\n",
    "    df1[\"aspect_ratio\"] = df1.major_axis_length / df1.minor_axis_length    \n",
    "    \n",
    "    df2[\"cluster_new\"] = df2.cluster.map({0:2,1:0,2:1})\n",
    "    df2 = df2.set_index(pd.DatetimeIndex(df2.dt_utc))\n",
    "    df2[\"month\"] = df2.index.month\n",
    "    df2[\"year\"] = df2.index.year    \n",
    "    df2[\"aspect_ratio\"] = df2.major_axis_length / df2.minor_axis_length     \n",
    "    \n",
    "    df1[\"rid\"] = rid\n",
    "    df2[\"rid\"] = rid\n",
    "\n",
    "    \n",
    "    return df1, df2\n",
    "\n",
    "def train_binary_mod(df, classifier, preds, target):\n",
    "    \n",
    "    mod = classifier.fit(df[preds], df[target].values.ravel())\n",
    "    \n",
    "    return mod\n",
    "\n",
    "def train_test_binary_mod(df, classifier, preds, target, n_split, test_size):\n",
    "    \n",
    "    auc_scores = []\n",
    "    for train, test in tqdm.tqdm(StratifiedShuffleSplit(n_split,test_size=test_size).split(X=df[preds],y=df[target].values.ravel())):\n",
    "        mod_split = train_binary_mod(df.iloc[train], classifier, preds, target)\n",
    "        auc_scores.append(roc_auc_score(df.iloc[test][target],mod_split.predict_proba(df.iloc[test][preds])[:,1]))\n",
    "        \n",
    "    return auc_scores\n",
    "\n",
    "def train_test_multi_mod(df, classifier, preds, target, n_split, test_size):\n",
    "    \n",
    "    auc_scores = []\n",
    "    for train, test in tqdm.tqdm(StratifiedShuffleSplit(n_split,test_size=test_size).split(X=df[preds],y=df[target].values.ravel())):\n",
    "        mod_split = train_binary_mod(df.iloc[train], classifier, preds, target)\n",
    "        auc_scores.append(roc_auc_score(df.iloc[test][target],mod_split.predict_proba(df.iloc[test][preds]),multi_class=\"ovr\",\n",
    "                                       average=\"weighted\"))\n",
    "        \n",
    "    return auc_scores"
   ]
  },
  {
   "cell_type": "code",
   "execution_count": 3,
   "id": "834f6959-01ab-4c57-855a-0a11e6cdfbd5",
   "metadata": {},
   "outputs": [
    {
     "name": "stdout",
     "output_type": "stream",
     "text": [
      "loading 2...\n",
      "loading 66...\n",
      "loading 69...\n",
      "loading 70...\n",
      "loading 71...\n"
     ]
    }
   ],
   "source": [
    "melb_scw, melb_null = load_scws(\"2\",'Australia/Melbourne')\n",
    "bris_scw, bris_null = load_scws(\"66\",'Australia/Brisbane')\n",
    "namoi_scw, namoi_null = load_scws(\"69\",'Australia/Sydney')\n",
    "perth_scw, perth_null = load_scws(\"70\",'Australia/Perth')\n",
    "syd_scw, syd_null = load_scws(\"71\",'Australia/Sydney')"
   ]
  },
  {
   "cell_type": "code",
   "execution_count": 4,
   "id": "268f281b-6bf7-4a0c-8755-b7ef95a19eeb",
   "metadata": {},
   "outputs": [],
   "source": [
    "data=pd.concat([melb_scw, syd_scw, bris_scw, perth_scw, namoi_scw,\n",
    "               ], axis=0)\n",
    "data[\"scw\"]=1\n",
    "data_null=pd.concat([melb_null, \n",
    "                     syd_null, \n",
    "                     bris_null,\n",
    "                     perth_null, \n",
    "                     namoi_null], axis=0)\n",
    "data = pd.concat([data,data_null],axis=0).set_index(\"stn_id\",append=True)\n",
    "\n",
    "#Linear\n",
    "data.loc[(data.aspect_ratio>=3) & (data.major_axis_length>=100),\"class2\"] = \"Linear\"\n",
    "#Non-linear\n",
    "data.loc[(data.aspect_ratio<3) & (data.major_axis_length>=100),\"class2\"] = \"Non-linear\"\n",
    "#Cellular\n",
    "data.loc[(data.local_max == 1),\"class2\"] = \"Cellular\"\n",
    "#Cluster of cells\n",
    "data.loc[(data.local_max>=2) & (data.major_axis_length<100),\"class2\"] = \"Cell cluster\"\n",
    "#Supercell\n",
    "data.loc[(data.azi_shear60>4) & ((data.aspect_ratio<3) | (data.major_axis_length<100)),\"class2\"] = \"Supercellular\"\n",
    "#Linear hybrid\n",
    "data.loc[(data.azi_shear60>4) & ((data.major_axis_length>=100)),\"class2\"] = \"Embedded supercell\""
   ]
  },
  {
   "cell_type": "code",
   "execution_count": 5,
   "id": "c1b0f035-d32b-4101-bfba-daf31a802915",
   "metadata": {},
   "outputs": [],
   "source": [
    "data_storm = data[data.in10km==1].dropna(subset=[\"azi_shear60\"])"
   ]
  },
  {
   "cell_type": "code",
   "execution_count": 6,
   "id": "a84e7aab-34f3-4964-9635-3a1460e3be35",
   "metadata": {},
   "outputs": [],
   "source": [
    "data[\"scw_lightning\"] = np.where((data.scw==1) & (data.Lightning_observed>=2), 1, 0) \n",
    "data_storm[\"scw_lightning\"] = np.where((data_storm.scw==1) & (data_storm.Lightning_observed>=2), 1, 0) "
   ]
  },
  {
   "cell_type": "code",
   "execution_count": null,
   "id": "0c8f8d9d-0cc7-4f05-9c09-b1b10410c223",
   "metadata": {},
   "outputs": [],
   "source": []
  },
  {
   "cell_type": "code",
   "execution_count": 7,
   "id": "de780f4b-07dc-4495-b8d7-2ede9c3208fd",
   "metadata": {},
   "outputs": [
    {
     "name": "stdout",
     "output_type": "stream",
     "text": [
      "AUC scores using all nulls, for events with and without lightning\n",
      "Note this is one-hourly lightning data\n",
      "\n",
      "AUC using the model wind gust: 0.8926264367857311 0.7992097710478427\n",
      "AUC using CAPE: 0.8027452933631913 0.9264361622421899\n",
      "AUC using DCP: 0.8405060830316055 0.9479967601047441\n",
      "AUC using total totals: 0.8615260175908874 0.9190924147182291\n",
      "AUC using BDSD: 0.9637476817739912 0.9704330453722186\n"
     ]
    }
   ],
   "source": [
    "print(\"AUC scores using all nulls, for events with and without lightning\\nNote this is one-hourly lightning data\\n\")\n",
    "print(\"AUC using the model wind gust:\",roc_auc_score(data[\"scw\"],data[\"wg10\"]),roc_auc_score(data[\"scw_lightning\"],data[\"wg10\"]))\n",
    "print(\"AUC using CAPE:\",roc_auc_score(data[\"scw\"],data[\"mu_cape\"]),roc_auc_score(data[\"scw_lightning\"],data[\"mu_cape\"]))\n",
    "print(\"AUC using DCP:\",roc_auc_score(data[\"scw\"],data[\"dcp\"]),roc_auc_score(data[\"scw_lightning\"],data[\"dcp\"]))\n",
    "print(\"AUC using total totals:\",roc_auc_score(data[\"scw\"],data[\"t_totals\"]),roc_auc_score(data[\"scw_lightning\"],data[\"t_totals\"]))\n",
    "print(\"AUC using BDSD:\",roc_auc_score(data[\"scw\"],data[\"bdsd\"]),roc_auc_score(data[\"scw_lightning\"],data[\"bdsd\"]))"
   ]
  },
  {
   "cell_type": "code",
   "execution_count": 8,
   "id": "1c933fc8-e3e6-4783-987f-eeafa604ec4a",
   "metadata": {},
   "outputs": [
    {
     "name": "stdout",
     "output_type": "stream",
     "text": [
      "AUC scores using storm events as nulls, for events with and without lightning\n",
      "Note this is one-hourly lightning data\n",
      "\n",
      "AUC using the model wind gust: 0.7929846671005012 0.6542237349880801\n",
      "AUC using CAPE: 0.6339679537386057 0.8551684613476567\n",
      "AUC using DCP: 0.7293961523466391 0.8993641558920018\n",
      "AUC using total totals: 0.6882074682678883 0.7811731099015807\n",
      "AUC using BDSD: 0.8145732963627652 0.8512113700734296\n"
     ]
    }
   ],
   "source": [
    "print(\"AUC scores using storm events as nulls, for events with and without lightning\\nNote this is one-hourly lightning data\\n\")\n",
    "print(\"AUC using the model wind gust:\",roc_auc_score(data_storm[\"scw\"],data_storm[\"wg10\"]),roc_auc_score(data_storm[\"scw_lightning\"],data_storm[\"wg10\"]))\n",
    "print(\"AUC using CAPE:\",roc_auc_score(data_storm[\"scw\"],data_storm[\"mu_cape\"]),roc_auc_score(data_storm[\"scw_lightning\"],data_storm[\"mu_cape\"]))\n",
    "print(\"AUC using DCP:\",roc_auc_score(data_storm[\"scw\"],data_storm[\"dcp\"]),roc_auc_score(data_storm[\"scw_lightning\"],data_storm[\"dcp\"]))\n",
    "print(\"AUC using total totals:\",roc_auc_score(data_storm[\"scw\"],data_storm[\"t_totals\"]),roc_auc_score(data_storm[\"scw_lightning\"],data_storm[\"t_totals\"]))\n",
    "print(\"AUC using BDSD:\",roc_auc_score(data_storm[\"scw\"],data_storm[\"bdsd\"]),roc_auc_score(data_storm[\"scw_lightning\"],data_storm[\"bdsd\"]))"
   ]
  },
  {
   "cell_type": "code",
   "execution_count": 43,
   "id": "310e2769-43f1-4279-9575-22827d3e173a",
   "metadata": {},
   "outputs": [],
   "source": [
    "gam_preds = [\"ebwd\",\"Umean800_600\",\"lr13\",\"max_alt\",\"field_max\"]\n",
    "\n",
    "resample_null = resample(data_storm[data_storm[\"scw\"]==0],replace=True,n_samples=data_storm[\"scw\"].sum()*10,random_state=10)\n",
    "resampled = pd.concat([resample_null, data_storm[data_storm[\"scw\"]==1]], axis=0)\n",
    "\n"
   ]
  },
  {
   "cell_type": "code",
   "execution_count": 45,
   "id": "4a7fcbc2-9ba9-4b0c-abd5-c44cfa04938d",
   "metadata": {},
   "outputs": [
    {
     "name": "stderr",
     "output_type": "stream",
     "text": [
      "100% (11 of 11) |########################| Elapsed Time: 0:00:01 Time:  0:00:01\n"
     ]
    }
   ],
   "source": [
    "gam = LogisticGAM(s(0)+s(1)+s(2)+s(3)+s(4),verbose=False,max_iter=1000).gridsearch(resampled[gam_preds].values,resampled[\"scw\"])"
   ]
  },
  {
   "cell_type": "code",
   "execution_count": 47,
   "id": "f20c854e-fe70-4fa8-ae43-47f9f073fbb9",
   "metadata": {},
   "outputs": [
    {
     "data": {
      "image/png": "[encoded data removed]",
      "text/plain": [
       "<Figure size 1296x288 with 5 Axes>"
      ]
     },
     "metadata": {
      "needs_background": "light"
     },
     "output_type": "display_data"
    }
   ],
   "source": [
    "fig, axs = plt.subplots(1, 5,figsize=[18,4])\n",
    "titles = gam_preds\n",
    "\n",
    "for i, ax in enumerate(axs):\n",
    "    XX = gam.generate_X_grid(term=i)\n",
    "    pdep, confi = gam.partial_dependence(term=i, width=.95)\n",
    "\n",
    "    ax.plot(XX[:, i], pdep)\n",
    "    ax.plot(XX[:, i], confi, c='r', ls='--')\n",
    "    ax.set_title(titles[i]);"
   ]
  },
  {
   "cell_type": "code",
   "execution_count": 48,
   "id": "4f36ca33-38ae-49f2-85c8-69ed05a63fd0",
   "metadata": {},
   "outputs": [
    {
     "data": {
      "text/plain": [
       "0.895517278183266"
      ]
     },
     "execution_count": 48,
     "metadata": {},
     "output_type": "execute_result"
    }
   ],
   "source": [
    "roc_auc_score(resampled[\"scw\"],gam.predict_proba(resampled[gam_preds]))"
   ]
  },
  {
   "cell_type": "code",
   "execution_count": null,
   "id": "e2197799-151f-4a6a-8442-a9340c36bfbe",
   "metadata": {},
   "outputs": [],
   "source": []
  },
  {
   "cell_type": "code",
   "execution_count": null,
   "id": "5ad8622a-6ef3-4768-9ab3-a378d32c835e",
   "metadata": {},
   "outputs": [],
   "source": []
  },
  {
   "cell_type": "code",
   "execution_count": null,
   "id": "32b67a84-8664-482c-80ee-eb35665f38f1",
   "metadata": {},
   "outputs": [],
   "source": []
  },
  {
   "cell_type": "code",
   "execution_count": 38,
   "id": "8ea04098-74ee-4724-b685-bc8a90cae377",
   "metadata": {},
   "outputs": [],
   "source": [
    "#Try with all predictors and let the decision tree decide. As in our JSHESS paper, this is all \"variables\" (not including indices)\n",
    "rf_preds = np.array(['ml_cape', 'mu_cape', 'sb_cape',\\\n",
    "             'ml_cin', 'sb_cin', 'mu_cin', 'ml_lcl', 'mu_lcl', 'sb_lcl', 'eff_cape',\\\n",
    "             'eff_cin', 'eff_lcl', 'lr01', 'lr03', 'lr13', 'lr36', 'lr24', 'lr_freezing',\\\n",
    "             'lr_subcloud', 'qmean01', 'qmean03', 'qmean06', 'qmeansubcloud', 'q_melting',\\\n",
    "             'q1', 'q3', 'q6', 'rhmin01', 'rhmin03', 'rhmin13', 'rhminsubcloud', 'tei', 'wbz',\\\n",
    "             'mhgt', 'mu_el', 'ml_el', 'sb_el', 'eff_el', 'pwat', \\\n",
    "             'te_diff', 'dpd850', 'dpd700', 'dcape', 'ddraft_temp', 'sfc_thetae',\\\n",
    "             'srhe_left', 'srh01_left', 'srh03_left', 'srh06_left', 'ebwd', 's010', 's06',\\\n",
    "             's03', 's01', 's13', 's36', 'scld', 'U500', 'U10', 'U1', 'U3', 'U6', 'Ust_left',\\\n",
    "             'Usr01_left', 'Usr03_left', 'Usr06_left', 'Uwindinf', 'Umeanwindinf',\\\n",
    "             'Umean800_600', 'Umean06', 'Umean01', 'Umean03',\\\n",
    "            \"max_alt\",\"area_km\",\"speed\",\"field_max\"])\n",
    "rf = BalancedRandomForestClassifier(n_estimators=500,\n",
    "                                             max_depth=None,\n",
    "                                             sampling_strategy='majority',\n",
    "                                             max_features=\"sqrt\"\n",
    "                                            )"
   ]
  },
  {
   "cell_type": "code",
   "execution_count": 39,
   "id": "dc989b74-d083-49a2-b7e7-36d38b1f8374",
   "metadata": {},
   "outputs": [],
   "source": [
    "resample_null = resample(data_storm[data_storm[\"scw\"]==0],replace=True,n_samples=data_storm[\"scw\"].sum()*10,random_state=10)\n",
    "resampled = pd.concat([resample_null, data_storm[data_storm[\"scw\"]==1]], axis=0)\n",
    "\n",
    "mod = rf.fit(resampled[rf_preds], resampled[\"scw\"].values.ravel())\n"
   ]
  },
  {
   "cell_type": "code",
   "execution_count": 40,
   "id": "b4d94aca-e5c3-4e37-abfc-1d58a7f9811d",
   "metadata": {},
   "outputs": [
    {
     "data": {
      "text/html": [
       "<div>\n",
       "<style scoped>\n",
       "    .dataframe tbody tr th:only-of-type {\n",
       "        vertical-align: middle;\n",
       "    }\n",
       "\n",
       "    .dataframe tbody tr th {\n",
       "        vertical-align: top;\n",
       "    }\n",
       "\n",
       "    .dataframe thead th {\n",
       "        text-align: right;\n",
       "    }\n",
       "</style>\n",
       "<table border=\"1\" class=\"dataframe\">\n",
       "  <thead>\n",
       "    <tr style=\"text-align: right;\">\n",
       "      <th></th>\n",
       "      <th>fi</th>\n",
       "    </tr>\n",
       "  </thead>\n",
       "  <tbody>\n",
       "    <tr>\n",
       "      <th>U10</th>\n",
       "      <td>0.050116</td>\n",
       "    </tr>\n",
       "    <tr>\n",
       "      <th>field_max</th>\n",
       "      <td>0.047769</td>\n",
       "    </tr>\n",
       "    <tr>\n",
       "      <th>lr_freezing</th>\n",
       "      <td>0.038153</td>\n",
       "    </tr>\n",
       "    <tr>\n",
       "      <th>Umean01</th>\n",
       "      <td>0.037902</td>\n",
       "    </tr>\n",
       "    <tr>\n",
       "      <th>lr03</th>\n",
       "      <td>0.035693</td>\n",
       "    </tr>\n",
       "    <tr>\n",
       "      <th>Umean03</th>\n",
       "      <td>0.034106</td>\n",
       "    </tr>\n",
       "    <tr>\n",
       "      <th>max_alt</th>\n",
       "      <td>0.030503</td>\n",
       "    </tr>\n",
       "    <tr>\n",
       "      <th>ddraft_temp</th>\n",
       "      <td>0.028434</td>\n",
       "    </tr>\n",
       "    <tr>\n",
       "      <th>U1</th>\n",
       "      <td>0.026798</td>\n",
       "    </tr>\n",
       "    <tr>\n",
       "      <th>sb_lcl</th>\n",
       "      <td>0.025128</td>\n",
       "    </tr>\n",
       "    <tr>\n",
       "      <th>Umean06</th>\n",
       "      <td>0.023365</td>\n",
       "    </tr>\n",
       "    <tr>\n",
       "      <th>lr01</th>\n",
       "      <td>0.021595</td>\n",
       "    </tr>\n",
       "    <tr>\n",
       "      <th>Umean800_600</th>\n",
       "      <td>0.021039</td>\n",
       "    </tr>\n",
       "    <tr>\n",
       "      <th>Uwindinf</th>\n",
       "      <td>0.020240</td>\n",
       "    </tr>\n",
       "    <tr>\n",
       "      <th>dcape</th>\n",
       "      <td>0.019444</td>\n",
       "    </tr>\n",
       "    <tr>\n",
       "      <th>U3</th>\n",
       "      <td>0.019128</td>\n",
       "    </tr>\n",
       "    <tr>\n",
       "      <th>Umeanwindinf</th>\n",
       "      <td>0.017311</td>\n",
       "    </tr>\n",
       "    <tr>\n",
       "      <th>s01</th>\n",
       "      <td>0.017039</td>\n",
       "    </tr>\n",
       "    <tr>\n",
       "      <th>ebwd</th>\n",
       "      <td>0.015448</td>\n",
       "    </tr>\n",
       "    <tr>\n",
       "      <th>Ust_left</th>\n",
       "      <td>0.014643</td>\n",
       "    </tr>\n",
       "  </tbody>\n",
       "</table>\n",
       "</div>"
      ],
      "text/plain": [
       "                    fi\n",
       "U10           0.050116\n",
       "field_max     0.047769\n",
       "lr_freezing   0.038153\n",
       "Umean01       0.037902\n",
       "lr03          0.035693\n",
       "Umean03       0.034106\n",
       "max_alt       0.030503\n",
       "ddraft_temp   0.028434\n",
       "U1            0.026798\n",
       "sb_lcl        0.025128\n",
       "Umean06       0.023365\n",
       "lr01          0.021595\n",
       "Umean800_600  0.021039\n",
       "Uwindinf      0.020240\n",
       "dcape         0.019444\n",
       "U3            0.019128\n",
       "Umeanwindinf  0.017311\n",
       "s01           0.017039\n",
       "ebwd          0.015448\n",
       "Ust_left      0.014643"
      ]
     },
     "execution_count": 40,
     "metadata": {},
     "output_type": "execute_result"
    }
   ],
   "source": [
    "pd.DataFrame({\"fi\":mod.feature_importances_},index=rf_preds).sort_values(\"fi\",ascending=False).iloc[0:20]"
   ]
  },
  {
   "cell_type": "code",
   "execution_count": 41,
   "id": "02bfc69b-6dcc-4ca6-a760-2d728494130d",
   "metadata": {},
   "outputs": [
    {
     "data": {
      "text/plain": [
       "0.9952586596169162"
      ]
     },
     "execution_count": 41,
     "metadata": {},
     "output_type": "execute_result"
    }
   ],
   "source": [
    "roc_auc_score(resampled[\"scw\"],mod.predict_proba(resampled[rf_preds])[:,1])"
   ]
  },
  {
   "cell_type": "code",
   "execution_count": 42,
   "id": "2c457dde-b598-4d8e-a2ac-895ae56099a2",
   "metadata": {},
   "outputs": [
    {
     "data": {
      "text/plain": [
       "array([[0.962, 0.038],\n",
       "       [0.922, 0.078],\n",
       "       [0.808, 0.192],\n",
       "       ...,\n",
       "       [0.08 , 0.92 ],\n",
       "       [0.044, 0.956],\n",
       "       [0.058, 0.942]])"
      ]
     },
     "execution_count": 42,
     "metadata": {},
     "output_type": "execute_result"
    }
   ],
   "source": [
    "mod.predict_proba(resampled[rf_preds])"
   ]
  },
  {
   "cell_type": "code",
   "execution_count": null,
   "id": "14620479-a1c2-487f-910c-83bd51e7c0a2",
   "metadata": {},
   "outputs": [],
   "source": []
  }
 ],
 "metadata": {
  "kernelspec": {
   "display_name": "Python [conda env:miniconda3]",
   "language": "python",
   "name": "conda-env-miniconda3-py"
  },
  "language_info": {
   "codemirror_mode": {
    "name": "ipython",
    "version": 3
   },
   "file_extension": ".py",
   "mimetype": "text/x-python",
   "name": "python",
   "nbconvert_exporter": "python",
   "pygments_lexer": "ipython3",
   "version": "3.7.6"
  }
 },
 "nbformat": 4,
 "nbformat_minor": 5
}
