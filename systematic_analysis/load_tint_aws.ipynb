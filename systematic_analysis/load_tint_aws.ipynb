{
 "cells": [
  {
   "cell_type": "code",
   "execution_count": 1,
   "id": "bad03b7a-fb28-4ddd-8603-7dc908c30e47",
   "metadata": {},
   "outputs": [],
   "source": [
    "import pandas as pd\n",
    "import matplotlib.pyplot as plt\n",
    "import datetime as dt\n",
    "import numpy as np\n",
    "import tqdm"
   ]
  },
  {
   "cell_type": "code",
   "execution_count": 60,
   "id": "926da1f6-f373-497b-81e9-6aa43a06647d",
   "metadata": {},
   "outputs": [
    {
     "name": "stderr",
     "output_type": "stream",
     "text": [
      "100%|██████████| 12/12 [00:18<00:00,  1.58s/it]\n",
      "100%|██████████| 12/12 [00:19<00:00,  1.65s/it]\n",
      "100%|██████████| 12/12 [00:21<00:00,  1.79s/it]\n",
      "100%|██████████| 12/12 [00:16<00:00,  1.42s/it]\n",
      "100%|██████████| 12/12 [00:18<00:00,  1.56s/it]\n",
      "100%|██████████| 12/12 [00:19<00:00,  1.62s/it]\n",
      "100%|██████████| 12/12 [00:19<00:00,  1.64s/it]\n",
      "100%|██████████| 12/12 [00:19<00:00,  1.66s/it]\n",
      "100%|██████████| 12/12 [00:23<00:00,  1.94s/it]\n",
      "100%|██████████| 12/12 [00:26<00:00,  2.18s/it]\n",
      "100%|██████████| 12/12 [00:27<00:00,  2.26s/it]\n"
     ]
    }
   ],
   "source": [
    "def load_tint_aws(fid, loc_id, y):\n",
    "    #Read the AWS-TINT output, which contains one-minute gusts merged with the closest TINT storm UID, \n",
    "    # as well as a flag for if the storm is within 0, 10 or 20 km\n",
    "    df = pd.read_csv(\"/g/data/eg3/ab4502/TINTobjects/\"+fid+\"_aws.csv\")\n",
    "    df[\"hour_floor\"] = pd.DatetimeIndex(df.dt_utc).floor(\"1H\")\n",
    "\n",
    "    #Get the severe convective gusts. Defined when there is an object within 10 km, \n",
    "    # the gust is greater than 25 m/s. Only interested in the unique \"events\", defined\n",
    "    # by having a unique storm id. However, because the storm can change ID on shrt time \n",
    "    # scales, also constrain events to unique hours.\n",
    "    scws = df.query(\"in10km==1\").query(\"gust>=25\").sort_values(\"gust\",ascending=False).\\\n",
    "        drop_duplicates(\"uid\").drop_duplicates(\"hour_floor\").sort_values(\"dt_utc\")\n",
    "\n",
    "    #Read the storm object statistics from TINT. Merge with the SCW events, and classify\n",
    "    storm2 = pd.read_csv(\"/g/data/eg3/ab4502/TINTobjects/\"+fid+\".csv\")\n",
    "    scws = scws.merge(storm2, on=[\"uid\",\"scan\"])\n",
    "    scws = scws[[\"dt_utc\",\"stn_id\",\"hour_floor\",\"scan\",\"uid\",\"gust\",\"major_axis_length\",\"minor_axis_length\",\"local_max\",\"azi_shear\",\"max_alt\",\"conv_pct\"]]\n",
    "    if scws.shape[0]>0:\n",
    "        scws[\"aspect\"] = scws[\"major_axis_length\"] / scws[\"minor_axis_length\"]\n",
    "        scws.loc[(scws[\"major_axis_length\"]>=100) & (scws[\"aspect\"]>=3),\"class\"] = \"Linear\"\n",
    "        scws.loc[(scws[\"major_axis_length\"]>=100) & (scws[\"aspect\"]<3),\"class\"] = \"Non-linear\"\n",
    "        scws.loc[(scws[\"major_axis_length\"]<100) & (scws[\"local_max\"]==1),\"class\"] = \"Cellular\"\n",
    "        scws.loc[(scws[\"major_axis_length\"]<100) & (scws[\"local_max\"]>1),\"class\"] = \"Cell cluster\"\n",
    "        scws.loc[(scws[\"major_axis_length\"]<100) & (scws[\"aspect\"]<3) & (scws[\"azi_shear\"]>=4.5),\"class\"] = \"Supercellular\"\n",
    "        scws.loc[(scws[\"max_alt\"]<8) & (scws[\"conv_pct\"]<0.5),\"class\"] = \"Shallow\"\n",
    "\n",
    "        era5 = pd.read_pickle(\"/g/data/eg3/ab4502/ExtremeWind/points/era5_rad50km_case_study_\"+str(y)+\"_\"+str(y)+\"_max.pkl\")\n",
    "        scws = scws.merge(era5[era5.loc_id==loc_id], right_on=\"time\", left_on=\"hour_floor\")\n",
    "\n",
    "    return df, scws\n",
    " \n",
    "def last_day_of_month(any_day):\n",
    "    # get close to the end of the month for any day, and add 4 days 'over'\n",
    "    next_month = any_day.replace(day=28) + dt.timedelta(days=4)\n",
    "    # subtract the number of remaining 'overage' days to get last day of current month, or said programattically said, the previous day of the first of next month\n",
    "    return next_month - dt.timedelta(days=next_month.day)    \n",
    "\n",
    "\n",
    "# scws2 = pd.DataFrame()\n",
    "# for y in np.arange(2010,2021):\n",
    "#     for m in tqdm.tqdm(np.arange(1,13)):\n",
    "#         try:\n",
    "#             fid1 = dt.datetime(y,m,1).strftime(\"%Y%m%d\")\n",
    "#             fid2 = last_day_of_month(dt.datetime(y,m,1)).strftime(\"%Y%m%d\")\n",
    "#             temp_all, temp = load_tint_aws(\"2_\"+fid1+\"_\"+fid2, \"Melbourne\", y)\n",
    "#             scws2 = pd.concat([scws2, temp],axis=0)\n",
    "#         except:\n",
    "#             pass\n",
    "\n",
    "        \n",
    "scws66 = pd.DataFrame()\n",
    "for y in np.arange(2010,2021):\n",
    "    for m in tqdm.tqdm(np.arange(1,13)):\n",
    "        try:\n",
    "            fid1 = dt.datetime(y,m,1).strftime(\"%Y%m%d\")\n",
    "            fid2 = last_day_of_month(dt.datetime(y,m,1)).strftime(\"%Y%m%d\")\n",
    "            temp_all, temp = load_tint_aws(\"66_\"+fid1+\"_\"+fid2, \"Amberley\", y)\n",
    "            scws66 = pd.concat([scws66, temp],axis=0)\n",
    "        except:\n",
    "            pass"
   ]
  },
  {
   "cell_type": "code",
   "execution_count": 58,
   "id": "e678e929-4df9-4b0f-b22d-f14e3a7686d7",
   "metadata": {},
   "outputs": [
    {
     "data": {
      "text/plain": [
       "(0.0, 2000.0)"
      ]
     },
     "execution_count": 58,
     "metadata": {},
     "output_type": "execute_result"
    },
    {
     "data": {
      "image/png": "[encoded data removed]",
      "text/plain": [
       "<Figure size 720x288 with 2 Axes>"
      ]
     },
     "metadata": {
      "needs_background": "light"
     },
     "output_type": "display_data"
    }
   ],
   "source": [
    "plt.figure(figsize=[10,4])\n",
    "ax=plt.subplot(1,2,1)\n",
    "scws2.plot(kind=\"scatter\",x=\"s06\",y=\"mu_cape\",ax=ax); plt.yscale(\"symlog\"); plt.ylim([-.1,10000]); plt.xlim([0,60])\n",
    "ax=plt.subplot(1,2,2)\n",
    "scws2.plot(kind=\"scatter\",x=\"dcape\",y=\"Umean06\",ax=ax); plt.ylim([0,42]); plt.xlim([0,2000])"
   ]
  },
  {
   "cell_type": "code",
   "execution_count": 63,
   "id": "4b65a17f-40b8-4745-a64d-7342b5ad70fe",
   "metadata": {},
   "outputs": [
    {
     "data": {
      "text/plain": [
       "(0.0, 2000.0)"
      ]
     },
     "execution_count": 63,
     "metadata": {},
     "output_type": "execute_result"
    },
    {
     "data": {
      "image/png": "[encoded data removed]",
      "text/plain": [
       "<Figure size 720x288 with 2 Axes>"
      ]
     },
     "metadata": {
      "needs_background": "light"
     },
     "output_type": "display_data"
    }
   ],
   "source": [
    "plt.figure(figsize=[10,4])\n",
    "ax=plt.subplot(1,2,1)\n",
    "scws66.plot(kind=\"scatter\",x=\"s06\",y=\"mu_cape\",ax=ax); plt.yscale(\"symlog\"); plt.ylim([0,10000]); plt.xlim([0,50])\n",
    "ax=plt.subplot(1,2,2)\n",
    "scws66.plot(kind=\"scatter\",x=\"dcape\",y=\"Umean06\",ax=ax); plt.ylim([0,35]); plt.xlim([0,2000])"
   ]
  },
  {
   "cell_type": "code",
   "execution_count": 40,
   "id": "f836333b-51be-47f4-bc24-b15976575c74",
   "metadata": {},
   "outputs": [
    {
     "data": {
      "text/plain": [
       "<AxesSubplot:xlabel='dcape', ylabel='gust'>"
      ]
     },
     "execution_count": 40,
     "metadata": {},
     "output_type": "execute_result"
    },
    {
     "data": {
      "image/png": "[encoded data removed]",
      "text/plain": [
       "<Figure size 432x288 with 1 Axes>"
      ]
     },
     "metadata": {
      "needs_background": "light"
     },
     "output_type": "display_data"
    }
   ],
   "source": [
    "pd.concat([scws2,scws66],axis=0).plot(kind=\"scatter\",x=\"dcape\",y=\"gust\")"
   ]
  },
  {
   "cell_type": "code",
   "execution_count": 66,
   "id": "5cd44d52-e12e-46c0-be18-0a48eef863d3",
   "metadata": {},
   "outputs": [
    {
     "data": {
      "text/html": [
       "<div>\n",
       "<style scoped>\n",
       "    .dataframe tbody tr th:only-of-type {\n",
       "        vertical-align: middle;\n",
       "    }\n",
       "\n",
       "    .dataframe tbody tr th {\n",
       "        vertical-align: top;\n",
       "    }\n",
       "\n",
       "    .dataframe thead th {\n",
       "        text-align: right;\n",
       "    }\n",
       "</style>\n",
       "<table border=\"1\" class=\"dataframe\">\n",
       "  <thead>\n",
       "    <tr style=\"text-align: right;\">\n",
       "      <th></th>\n",
       "      <th>dt_utc</th>\n",
       "      <th>stn_id</th>\n",
       "      <th>scan</th>\n",
       "      <th>uid</th>\n",
       "      <th>gust</th>\n",
       "      <th>class</th>\n",
       "      <th>mu_cape</th>\n",
       "      <th>s06</th>\n",
       "      <th>Umean06</th>\n",
       "      <th>dcape</th>\n",
       "      <th>major_axis_length</th>\n",
       "      <th>aspect</th>\n",
       "      <th>max_alt</th>\n",
       "      <th>conv_pct</th>\n",
       "    </tr>\n",
       "  </thead>\n",
       "  <tbody>\n",
       "    <tr>\n",
       "      <th>0</th>\n",
       "      <td>2011-01-11 03:49:00</td>\n",
       "      <td>40082</td>\n",
       "      <td>2438.0</td>\n",
       "      <td>2892.0</td>\n",
       "      <td>48.4</td>\n",
       "      <td>Non-linear</td>\n",
       "      <td>1248.5625</td>\n",
       "      <td>12.812500</td>\n",
       "      <td>12.492188</td>\n",
       "      <td>321.5000</td>\n",
       "      <td>214.129</td>\n",
       "      <td>1.645956</td>\n",
       "      <td>9.0</td>\n",
       "      <td>0.427</td>\n",
       "    </tr>\n",
       "    <tr>\n",
       "      <th>2</th>\n",
       "      <td>2016-11-13 07:31:00</td>\n",
       "      <td>40842</td>\n",
       "      <td>2927.0</td>\n",
       "      <td>745.0</td>\n",
       "      <td>43.7</td>\n",
       "      <td>Cell cluster</td>\n",
       "      <td>2373.6250</td>\n",
       "      <td>26.289062</td>\n",
       "      <td>17.273438</td>\n",
       "      <td>1606.7500</td>\n",
       "      <td>60.834</td>\n",
       "      <td>1.708532</td>\n",
       "      <td>14.0</td>\n",
       "      <td>0.425</td>\n",
       "    </tr>\n",
       "    <tr>\n",
       "      <th>1</th>\n",
       "      <td>2014-11-27 06:29:00</td>\n",
       "      <td>40211</td>\n",
       "      <td>5808.0</td>\n",
       "      <td>1091.0</td>\n",
       "      <td>39.1</td>\n",
       "      <td>Supercellular</td>\n",
       "      <td>2561.6875</td>\n",
       "      <td>13.468750</td>\n",
       "      <td>4.687500</td>\n",
       "      <td>968.4375</td>\n",
       "      <td>85.672</td>\n",
       "      <td>2.178840</td>\n",
       "      <td>14.0</td>\n",
       "      <td>0.561</td>\n",
       "    </tr>\n",
       "    <tr>\n",
       "      <th>7</th>\n",
       "      <td>2013-01-27 04:02:00</td>\n",
       "      <td>40043</td>\n",
       "      <td>6205.0</td>\n",
       "      <td>2670.0</td>\n",
       "      <td>35.5</td>\n",
       "      <td>Shallow</td>\n",
       "      <td>177.3750</td>\n",
       "      <td>29.390625</td>\n",
       "      <td>25.539062</td>\n",
       "      <td>69.1250</td>\n",
       "      <td>220.214</td>\n",
       "      <td>1.531220</td>\n",
       "      <td>6.5</td>\n",
       "      <td>0.282</td>\n",
       "    </tr>\n",
       "    <tr>\n",
       "      <th>9</th>\n",
       "      <td>2013-01-27 06:36:00</td>\n",
       "      <td>40043</td>\n",
       "      <td>6228.0</td>\n",
       "      <td>2817.0</td>\n",
       "      <td>34.5</td>\n",
       "      <td>Shallow</td>\n",
       "      <td>125.7500</td>\n",
       "      <td>23.898438</td>\n",
       "      <td>24.468750</td>\n",
       "      <td>60.3125</td>\n",
       "      <td>195.472</td>\n",
       "      <td>2.170440</td>\n",
       "      <td>6.0</td>\n",
       "      <td>0.091</td>\n",
       "    </tr>\n",
       "    <tr>\n",
       "      <th>...</th>\n",
       "      <td>...</td>\n",
       "      <td>...</td>\n",
       "      <td>...</td>\n",
       "      <td>...</td>\n",
       "      <td>...</td>\n",
       "      <td>...</td>\n",
       "      <td>...</td>\n",
       "      <td>...</td>\n",
       "      <td>...</td>\n",
       "      <td>...</td>\n",
       "      <td>...</td>\n",
       "      <td>...</td>\n",
       "      <td>...</td>\n",
       "      <td>...</td>\n",
       "    </tr>\n",
       "    <tr>\n",
       "      <th>0</th>\n",
       "      <td>2016-04-24 07:25:00</td>\n",
       "      <td>40043</td>\n",
       "      <td>5107.0</td>\n",
       "      <td>1150.0</td>\n",
       "      <td>25.2</td>\n",
       "      <td>Cell cluster</td>\n",
       "      <td>171.3125</td>\n",
       "      <td>15.281250</td>\n",
       "      <td>11.515625</td>\n",
       "      <td>873.5625</td>\n",
       "      <td>43.796</td>\n",
       "      <td>3.194923</td>\n",
       "      <td>5.5</td>\n",
       "      <td>0.631</td>\n",
       "    </tr>\n",
       "    <tr>\n",
       "      <th>1</th>\n",
       "      <td>2016-04-24 08:15:00</td>\n",
       "      <td>40043</td>\n",
       "      <td>5115.0</td>\n",
       "      <td>1160.0</td>\n",
       "      <td>25.2</td>\n",
       "      <td>Shallow</td>\n",
       "      <td>110.3750</td>\n",
       "      <td>15.031250</td>\n",
       "      <td>11.406250</td>\n",
       "      <td>829.6250</td>\n",
       "      <td>28.603</td>\n",
       "      <td>3.587933</td>\n",
       "      <td>4.0</td>\n",
       "      <td>0.448</td>\n",
       "    </tr>\n",
       "    <tr>\n",
       "      <th>0</th>\n",
       "      <td>2016-06-03 18:40:00</td>\n",
       "      <td>40043</td>\n",
       "      <td>664.0</td>\n",
       "      <td>1156.0</td>\n",
       "      <td>25.2</td>\n",
       "      <td>Cellular</td>\n",
       "      <td>246.9375</td>\n",
       "      <td>21.195312</td>\n",
       "      <td>16.492188</td>\n",
       "      <td>133.2500</td>\n",
       "      <td>49.722</td>\n",
       "      <td>1.701293</td>\n",
       "      <td>5.0</td>\n",
       "      <td>0.543</td>\n",
       "    </tr>\n",
       "    <tr>\n",
       "      <th>1</th>\n",
       "      <td>2016-06-03 19:14:00</td>\n",
       "      <td>40043</td>\n",
       "      <td>670.0</td>\n",
       "      <td>1198.0</td>\n",
       "      <td>25.2</td>\n",
       "      <td>Non-linear</td>\n",
       "      <td>197.3750</td>\n",
       "      <td>23.890625</td>\n",
       "      <td>15.820312</td>\n",
       "      <td>118.9375</td>\n",
       "      <td>123.180</td>\n",
       "      <td>1.764327</td>\n",
       "      <td>7.0</td>\n",
       "      <td>0.546</td>\n",
       "    </tr>\n",
       "    <tr>\n",
       "      <th>2</th>\n",
       "      <td>2014-08-23 05:19:00</td>\n",
       "      <td>40043</td>\n",
       "      <td>5285.0</td>\n",
       "      <td>3064.0</td>\n",
       "      <td>25.2</td>\n",
       "      <td>Cellular</td>\n",
       "      <td>213.1875</td>\n",
       "      <td>16.023438</td>\n",
       "      <td>7.703125</td>\n",
       "      <td>139.5000</td>\n",
       "      <td>16.393</td>\n",
       "      <td>2.963304</td>\n",
       "      <td>3.0</td>\n",
       "      <td>0.765</td>\n",
       "    </tr>\n",
       "  </tbody>\n",
       "</table>\n",
       "<p>120 rows × 14 columns</p>\n",
       "</div>"
      ],
      "text/plain": [
       "                 dt_utc  stn_id    scan     uid  gust          class  \\\n",
       "0   2011-01-11 03:49:00   40082  2438.0  2892.0  48.4     Non-linear   \n",
       "2   2016-11-13 07:31:00   40842  2927.0   745.0  43.7   Cell cluster   \n",
       "1   2014-11-27 06:29:00   40211  5808.0  1091.0  39.1  Supercellular   \n",
       "7   2013-01-27 04:02:00   40043  6205.0  2670.0  35.5        Shallow   \n",
       "9   2013-01-27 06:36:00   40043  6228.0  2817.0  34.5        Shallow   \n",
       "..                  ...     ...     ...     ...   ...            ...   \n",
       "0   2016-04-24 07:25:00   40043  5107.0  1150.0  25.2   Cell cluster   \n",
       "1   2016-04-24 08:15:00   40043  5115.0  1160.0  25.2        Shallow   \n",
       "0   2016-06-03 18:40:00   40043   664.0  1156.0  25.2       Cellular   \n",
       "1   2016-06-03 19:14:00   40043   670.0  1198.0  25.2     Non-linear   \n",
       "2   2014-08-23 05:19:00   40043  5285.0  3064.0  25.2       Cellular   \n",
       "\n",
       "      mu_cape        s06    Umean06      dcape  major_axis_length    aspect  \\\n",
       "0   1248.5625  12.812500  12.492188   321.5000            214.129  1.645956   \n",
       "2   2373.6250  26.289062  17.273438  1606.7500             60.834  1.708532   \n",
       "1   2561.6875  13.468750   4.687500   968.4375             85.672  2.178840   \n",
       "7    177.3750  29.390625  25.539062    69.1250            220.214  1.531220   \n",
       "9    125.7500  23.898438  24.468750    60.3125            195.472  2.170440   \n",
       "..        ...        ...        ...        ...                ...       ...   \n",
       "0    171.3125  15.281250  11.515625   873.5625             43.796  3.194923   \n",
       "1    110.3750  15.031250  11.406250   829.6250             28.603  3.587933   \n",
       "0    246.9375  21.195312  16.492188   133.2500             49.722  1.701293   \n",
       "1    197.3750  23.890625  15.820312   118.9375            123.180  1.764327   \n",
       "2    213.1875  16.023438   7.703125   139.5000             16.393  2.963304   \n",
       "\n",
       "    max_alt  conv_pct  \n",
       "0       9.0     0.427  \n",
       "2      14.0     0.425  \n",
       "1      14.0     0.561  \n",
       "7       6.5     0.282  \n",
       "9       6.0     0.091  \n",
       "..      ...       ...  \n",
       "0       5.5     0.631  \n",
       "1       4.0     0.448  \n",
       "0       5.0     0.543  \n",
       "1       7.0     0.546  \n",
       "2       3.0     0.765  \n",
       "\n",
       "[120 rows x 14 columns]"
      ]
     },
     "execution_count": 66,
     "metadata": {},
     "output_type": "execute_result"
    }
   ],
   "source": [
    "scws66.sort_values(\"gust\",ascending=False)[[\"dt_utc\",\"stn_id\",\"scan\",\"uid\",\"gust\",\"class\",\"mu_cape\",\"s06\",\"Umean06\",\"dcape\",\"major_axis_length\",\"aspect\",\"max_alt\",\"conv_pct\"]]"
   ]
  },
  {
   "cell_type": "code",
   "execution_count": 64,
   "id": "cfa6fcbb-a9a7-456c-91e4-1668ff74958d",
   "metadata": {},
   "outputs": [
    {
     "data": {
      "text/plain": [
       "<AxesSubplot:>"
      ]
     },
     "execution_count": 64,
     "metadata": {},
     "output_type": "execute_result"
    },
    {
     "data": {
      "image/png": "[encoded data removed]",
      "text/plain": [
       "<Figure size 432x288 with 1 Axes>"
      ]
     },
     "metadata": {
      "needs_background": "light"
     },
     "output_type": "display_data"
    }
   ],
   "source": [
    "pd.DatetimeIndex(scws66[\"dt_utc\"]).month.value_counts().sort_index().plot()"
   ]
  },
  {
   "cell_type": "code",
   "execution_count": 69,
   "id": "16860cc9-5384-4216-9a21-c348ad47d73a",
   "metadata": {},
   "outputs": [
    {
     "data": {
      "text/plain": [
       "Shallow          54\n",
       "Cellular         22\n",
       "Cell cluster     20\n",
       "Non-linear       13\n",
       "Supercellular     7\n",
       "Linear            4\n",
       "Name: class, dtype: int64"
      ]
     },
     "execution_count": 69,
     "metadata": {},
     "output_type": "execute_result"
    }
   ],
   "source": [
    "scws66[\"class\"].value_counts()"
   ]
  },
  {
   "cell_type": "code",
   "execution_count": null,
   "id": "ea4e3102-a721-46ee-b7fc-7d294c851bc9",
   "metadata": {},
   "outputs": [],
   "source": []
  }
 ],
 "metadata": {
  "kernelspec": {
   "display_name": "Python [conda env:miniconda3-radar]",
   "language": "python",
   "name": "conda-env-miniconda3-radar-py"
  },
  "language_info": {
   "codemirror_mode": {
    "name": "ipython",
    "version": 3
   },
   "file_extension": ".py",
   "mimetype": "text/x-python",
   "name": "python",
   "nbconvert_exporter": "python",
   "pygments_lexer": "ipython3",
   "version": "3.9.4"
  }
 },
 "nbformat": 4,
 "nbformat_minor": 5
}
