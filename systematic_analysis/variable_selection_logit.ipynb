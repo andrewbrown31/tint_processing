{
 "cells": [
  {
   "cell_type": "code",
   "execution_count": 1,
   "id": "c7467dbd-e358-4a4e-9f17-72d35339b885",
   "metadata": {},
   "outputs": [],
   "source": [
    "import pandas as pd\n",
    "import numpy as np\n",
    "import glob\n",
    "import datetime as dt\n",
    "import tqdm\n",
    "import pytz"
   ]
  },
  {
   "cell_type": "code",
   "execution_count": 2,
   "id": "cfe0ee08-f865-44fe-8965-a6e9e5f93d61",
   "metadata": {},
   "outputs": [],
   "source": [
    "def load_scws(rid,tz):\n",
    "    print(\"loading \"+rid+\"...\")\n",
    "    df1 = pd.read_csv(\"/g/data/eg3/ab4502/ExtremeWind/points/\"+rid+\"_scw_envs_df.csv\")\n",
    "    \n",
    "    df1[\"cluster_new\"] = df1.cluster.map({0:2,2:1,1:0})\n",
    "    df1 = df1.set_index(pd.DatetimeIndex(df1.dt_utc))\n",
    "    df1 = add_lt(df1,tz)    \n",
    "    df1[\"year\"] = df1.index.year\n",
    "    df1[\"month\"] = df1.index.month\n",
    "    df1[\"hour\"] = df1[\"lt\"].dt.hour\n",
    "    df1[\"rid\"] = rid  \n",
    "    df1[\"scw\"] = 1\n",
    "    \n",
    "    return df1\n",
    "\n",
    "def load_nulls(rid,tz):\n",
    "    \n",
    "    df2 = pd.read_csv(\"/g/data/eg3/ab4502/ExtremeWind/points/\"+rid+\"_non_scw_envs_df.csv\")\n",
    "    \n",
    "    df2[\"cluster_new\"] = df2.cluster.map({0:2,2:1,1:0})\n",
    "    df2 = df2.set_index(pd.DatetimeIndex(df2.dt_utc))\n",
    "    df2 = add_lt(df2,tz)    \n",
    "    df2[\"year\"] = df2.index.year\n",
    "    df2[\"month\"] = df2.index.month\n",
    "    df2[\"hour\"] = df2[\"lt\"].dt.hour\n",
    "    df2[\"rid\"] = rid   \n",
    "    df2[\"scw\"] = 0\n",
    "    \n",
    "    return df2\n",
    "\n",
    "def add_lt(df,tz):\n",
    "    df[\"lt\"] = df.index.tz_localize(pytz.utc).tz_convert(pytz.timezone(tz))\n",
    "    return df\n",
    "\n",
    "def remove_suspect_gusts(df):\n",
    "    dts = [\"2010-12-14 07:03:00\",\"2011-01-11 03:49:00\",\"2015-12-15 23:33:00\",\"2020-02-09 01:00:00\",\"2020-02-09 03:18:00\",\"2020-05-25 06:11:00\",\n",
    "          \"2012-11-02 18:58:00\",\"2012-12-20 21:19:00\",\"2012-12-15 13:00:00\",\"2012-12-29 16:15:00\",\"2012-12-30 06:25:00\",\"2012-12-30 18:01:00\",\"2013-01-02 08:15:00\",\n",
    "          \"2013-01-05 03:36:00\",\"2013-01-12 15:22:00\",\"2013-02-11 07:56:00\"]\n",
    "    return df[np.in1d(df.dt_utc,dts,invert=True)]\n",
    "\n",
    "def assign_storm_class(data):\n",
    "\n",
    "    #Linear\n",
    "    data.loc[(data.aspect_ratio>=3) & (data.major_axis_length>=100),\"class2\"] = \"Linear\"\n",
    "    #Non-linear\n",
    "    data.loc[(data.aspect_ratio<3) & (data.major_axis_length>=100),\"class2\"] = \"Non-linear\"\n",
    "    #Cellular\n",
    "    data.loc[(data.local_max == 1),\"class2\"] = \"Cellular\"\n",
    "    #Cluster of cells\n",
    "    data.loc[(data.local_max>=2) & (data.major_axis_length<100),\"class2\"] = \"Cell cluster\"\n",
    "    #Supercell\n",
    "    data.loc[(data.max_alt>=7) & (data.azi_shear60>4) & ((data.aspect_ratio<3) | (data.major_axis_length<100)),\"class2\"] = \"Supercellular\"\n",
    "    #Linear hybrid\n",
    "    data.loc[(data.max_alt>=7) & (data.azi_shear60>4) & ((data.major_axis_length>=100)),\"class2\"] = \"Embedded supercell\"\n",
    "    \n",
    "    return data"
   ]
  },
  {
   "cell_type": "code",
   "execution_count": 3,
   "id": "e79e934a-6ad9-4a36-8496-33db8e8db085",
   "metadata": {},
   "outputs": [
    {
     "name": "stdout",
     "output_type": "stream",
     "text": [
      "loading 2...\n"
     ]
    }
   ],
   "source": [
    "tzs = {\"68\":'Australia/Melbourne',\n",
    "       \"64\":'Australia/Adelaide',\n",
    "       \"8\":'Australia/Brisbane',\n",
    "       \"72\":'Australia/Queensland',\n",
    "       \"75\":'Australia/Queensland',\n",
    "       \"19\":'Australia/Queensland',\n",
    "       \"73\":'Australia/Queensland',\n",
    "       \"78\":'Australia/Queensland',\n",
    "       \"77\":'Australia/Darwin',\n",
    "       \"49\":'Australia/Victoria',\n",
    "       \"4\":'Australia/Sydney',\n",
    "       \"40\":'Australia/Canberra',\n",
    "       \"48\":'Australia/West',\n",
    "       \"2\":'Australia/Melbourne',\n",
    "       \"66\":'Australia/Brisbane',\n",
    "       \"69\":'Australia/NSW',\n",
    "       \"70\":'Australia/Perth',\n",
    "       \"71\":'Australia/Sydney',\n",
    "      \"63\":'Australia/Darwin',\n",
    "      \"76\":'Australia/Hobart',\n",
    "      \"77\":\"Australia/Darwin\"}\n",
    "       \n",
    "#rids = [\"2\",\"66\",\"69\",\"70\",\"71\",\"64\",\"8\",\"72\",\"75\",\"19\",\"73\",\"78\",\"49\",\"4\",\"40\",\"48\",\"68\",\"63\",\"76\",\"77\"]\n",
    "rids = [\"2\"]\n",
    "df = pd.DataFrame()\n",
    "for rid in rids:\n",
    "    df = pd.concat([df,remove_suspect_gusts(load_scws(rid,tzs[rid]))],axis=0)\n",
    "    df = pd.concat([df,load_nulls(rid,tzs[rid])],axis=0)    "
   ]
  },
  {
   "cell_type": "code",
   "execution_count": 4,
   "id": "ed03388a-6c55-4c5e-ad1e-191eb4db8f98",
   "metadata": {},
   "outputs": [],
   "source": [
    "from statsmodels.tools.tools import add_constant\n",
    "from statsmodels.discrete.discrete_model import Logit\n",
    "import warnings\n",
    "from sklearn.linear_model import LogisticRegression\n",
    "import multiprocessing\n",
    "\n",
    "def resample_events(df, event, N, M, conserve_prop=True, fixed_ratio=None): \n",
    "                \n",
    "    ratio = round(df.shape[0] / df[event].sum())\n",
    "    event_inds = df[df[event]==1].index.values\n",
    "    non_inds = df[df[event]==0].index.values \n",
    "    rand_event_inds = []; rand_non_event_inds = []\n",
    "    for i in np.arange(N):\n",
    "        rand_event_inds.append(event_inds[np.random.randint(0, high=len(event_inds), size=M)])\n",
    "        if conserve_prop:\n",
    "            rand_non_event_inds.append(non_inds[np.random.randint(0, high=len(non_inds), size=int(M*ratio))])\n",
    "        else:\n",
    "            rand_non_event_inds.append(non_inds[np.random.randint(0, high=len(non_inds), size=int(round((df[event]==0).sum()*fixed_ratio)))])\n",
    "    return [rand_event_inds, rand_non_event_inds]"
   ]
  },
  {
   "cell_type": "code",
   "execution_count": 5,
   "id": "fe59d1e4-27ab-47a7-9654-e83526f9a2ac",
   "metadata": {},
   "outputs": [],
   "source": [
    "logit = LogisticRegression(class_weight=\"balanced\", solver=\"liblinear\",max_iter=1000)\n",
    "#pool = multiprocessing.Pool()\n",
    "N=100\n",
    "np.random.seed(seed=0)"
   ]
  },
  {
   "cell_type": "code",
   "execution_count": 6,
   "id": "b7e72409-eba1-4dfd-b779-318106d83cd4",
   "metadata": {},
   "outputs": [],
   "source": [
    "preds = np.array(['ml_cape', 'mu_cape', 'sb_cape',\\\n",
    "     'ml_cin', 'sb_cin', 'mu_cin', 'ml_lcl', 'mu_lcl', 'sb_lcl', 'eff_cape',\\\n",
    "     'eff_cin', 'eff_lcl', 'lr01', 'lr03', 'lr13', 'lr36', 'lr24', 'lr_freezing',\\\n",
    "     'lr_subcloud', 'qmean01', 'qmean03', 'qmean06', 'qmeansubcloud', 'q_melting',\\\n",
    "     'q1', 'q3', 'q6', 'rhmin01', 'rhmin03', 'rhmin13', 'rhminsubcloud', 'tei', 'wbz',\\\n",
    "     'mhgt', 'mu_el', 'ml_el', 'sb_el', 'eff_el', 'pwat', \\\n",
    "     'te_diff', 'dpd850', 'dpd700', 'dcape', 'ddraft_temp', 'sfc_thetae',\\\n",
    "     'srhe_left', 'srh01_left', 'srh03_left', 'srh06_left', 'ebwd', 's010', 's06',\\\n",
    "     's03', 's01', 's13', 's36', 'scld', 'U500', 'U10', 'U1', 'U3', 'U6', 'Ust_left',\\\n",
    "     'Usr01_left', 'Usr03_left', 'Usr06_left', 'Uwindinf', 'Umeanwindinf',\\\n",
    "     'Umean800_600', 'Umean06', 'Umean01', 'Umean03'])\n",
    "\n",
    "#mod = Logit(df[event],add_constant(df[preds])[\"const\"]).fit()"
   ]
  },
  {
   "cell_type": "code",
   "execution_count": 9,
   "id": "8f9c92ef-2202-4a93-b06d-d4119f9b5a50",
   "metadata": {},
   "outputs": [
    {
     "data": {
      "text/plain": [
       "(1654763, 181)"
      ]
     },
     "execution_count": 9,
     "metadata": {},
     "output_type": "execute_result"
    }
   ],
   "source": [
    "df.shape"
   ]
  },
  {
   "cell_type": "code",
   "execution_count": null,
   "id": "673e18a2-3d06-4ed2-b6ef-101104351e42",
   "metadata": {},
   "outputs": [],
   "source": []
  }
 ],
 "metadata": {
  "kernelspec": {
   "display_name": "Python [conda env:analysis3]",
   "language": "python",
   "name": "conda-env-analysis3-py"
  },
  "language_info": {
   "codemirror_mode": {
    "name": "ipython",
    "version": 3
   },
   "file_extension": ".py",
   "mimetype": "text/x-python",
   "name": "python",
   "nbconvert_exporter": "python",
   "pygments_lexer": "ipython3",
   "version": "3.9.15"
  }
 },
 "nbformat": 4,
 "nbformat_minor": 5
}
