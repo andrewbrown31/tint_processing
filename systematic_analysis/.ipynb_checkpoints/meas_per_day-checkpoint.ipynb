{
 "cells": [
  {
   "cell_type": "code",
   "execution_count": 1,
   "id": "384fe296-123f-4b9c-8e06-ff6717b0112d",
   "metadata": {},
   "outputs": [],
   "source": [
    "import pandas as pd\n",
    "import numpy as np\n",
    "import glob\n",
    "import datetime as dt\n",
    "import tqdm\n",
    "import matplotlib.pyplot as plt"
   ]
  },
  {
   "cell_type": "code",
   "execution_count": 2,
   "id": "a4baf85a-933d-421d-91e6-ac7893f26cff",
   "metadata": {},
   "outputs": [],
   "source": [
    "def last_day_of_month(any_day):\n",
    "    # get close to the end of the month for any day, and add 4 days 'over'\n",
    "    next_month = any_day.replace(day=28) + dt.timedelta(days=4)\n",
    "    # subtract the number of remaining 'overage' days to get last day of current month, or said programattically said, the previous day of the first of next month\n",
    "    return next_month - dt.timedelta(days=next_month.day)    \n",
    "\n",
    "def load_scws(rid,year,month):\n",
    "    \n",
    "    #Load the merged AWS, ERA5, TINT dataset. Define SCW events and keep these only. Currently: One minute max 3-sec gusts over 25 m/s, with a radar object within \n",
    "    #   10 km, and keeping the highest daily observed gust across all stations. Also require WGR(4-hr) greater than 1.5.\n",
    "    d1 = dt.datetime(year,month,1)\n",
    "    d2 = last_day_of_month(d1)\n",
    "    temp_df = pd.read_pickle(\"/g/data/eg3/ab4502/ExtremeWind/points/era5_aws_tint_\"+rid+\"_\"+d1.strftime(\"%Y%m%d\")+\"_\"+d2.strftime(\"%Y%m%d\")+\"_max.pkl\")\n",
    "    temp_df = temp_df.set_index(pd.DatetimeIndex(temp_df.dt_utc)).sort_index()\n",
    "    scws = temp_df.query(\"(gust>=25) & (in10km ==1)\").sort_values(\"gust\",ascending=False)\n",
    "    scws[\"day\"] = pd.DatetimeIndex(scws[\"dt_utc\"]).floor(\"1D\")\n",
    "    \n",
    "    #Get the wind gust ratio: ratio of peak gust to 1) mean 4-hour gust, 2) mean 2-hour gust pre-event, 3) mean 2-hour gust post-event.\n",
    "    wgr_4 = []\n",
    "    wgr_minus_2 = []    \n",
    "    wgr_plus_2 = []\n",
    "    wgr_data_pct = []\n",
    "    for i in np.arange(scws.shape[0]):\n",
    "        t=dt.datetime.strptime(scws.iloc[i].dt_utc,\"%Y-%m-%d %H:%M:%S\")\n",
    "        peak_gust = scws.iloc[i].gust\n",
    "        sliced = temp_df.query(\"stn_id==\"+str(scws.iloc[i].stn_id)).loc[slice(t-dt.timedelta(hours=2),t+dt.timedelta(hours=2))].gust\n",
    "        mean_gust_4 = sliced.mean()\n",
    "        mean_gust_minus_2 = sliced.loc[slice(t-dt.timedelta(hours=2),t)].mean()        \n",
    "        mean_gust_plus_2 = sliced.loc[slice(t,t+dt.timedelta(hours=2))].mean()                \n",
    "        wgr_4.append(peak_gust / mean_gust_4)\n",
    "        wgr_minus_2.append(peak_gust / mean_gust_minus_2)        \n",
    "        wgr_plus_2.append(peak_gust / mean_gust_plus_2)                \n",
    "        wgr_data_pct.append((~sliced.isna()).sum() / (4*60+1))\n",
    "    scws[\"wgr_4\"] = wgr_4\n",
    "    scws[\"wgr_minus_2\"] = wgr_minus_2\n",
    "    scws[\"wgr_plus_2\"] = wgr_plus_2\n",
    "    scws[\"wgr_data_pct\"] = wgr_data_pct\n",
    "    \n",
    "    return scws"
   ]
  },
  {
   "cell_type": "code",
   "execution_count": null,
   "id": "0713f087-563d-443a-b5d8-9d1e5e256707",
   "metadata": {},
   "outputs": [
    {
     "name": "stderr",
     "output_type": "stream",
     "text": [
      " 18%|█▊        | 2/11 [01:49<08:13, 54.89s/it]"
     ]
    }
   ],
   "source": [
    "sydney = pd.DataFrame()\n",
    "for y in tqdm.tqdm(np.arange(2010,2021)):\n",
    "    for m in np.arange(1,13):\n",
    "        try:\n",
    "            sydney = pd.concat([sydney, load_scws(\"71\",y,m)])\n",
    "        except:\n",
    "            print(\"CAN'T LOAD YEAR \"+str(y)+\" MONTH \"+str(m))"
   ]
  },
  {
   "cell_type": "code",
   "execution_count": null,
   "id": "37e50f7a-1164-492f-aaf0-447631d162c4",
   "metadata": {},
   "outputs": [],
   "source": [
    "meas_per_day = [sydney.query(\"cluster==\"+str(i)).groupby([\"day\"]).agg(\"nunique\").stn_id.sum() / \n",
    "                sydney.query(\"cluster==\"+str(i)).day.nunique() for i in [0,1,2]]"
   ]
  },
  {
   "cell_type": "code",
   "execution_count": null,
   "id": "dd8f7e20-40f0-4e86-a360-3c6f4e488770",
   "metadata": {},
   "outputs": [],
   "source": []
  }
 ],
 "metadata": {
  "kernelspec": {
   "display_name": "Python [conda env:miniconda3-radar]",
   "language": "python",
   "name": "conda-env-miniconda3-radar-py"
  },
  "language_info": {
   "codemirror_mode": {
    "name": "ipython",
    "version": 3
   },
   "file_extension": ".py",
   "mimetype": "text/x-python",
   "name": "python",
   "nbconvert_exporter": "python",
   "pygments_lexer": "ipython3",
   "version": "3.9.4"
  }
 },
 "nbformat": 4,
 "nbformat_minor": 5
}
