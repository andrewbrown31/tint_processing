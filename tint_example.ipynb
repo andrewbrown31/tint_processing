{
 "cells": [
  {
   "cell_type": "code",
   "execution_count": 5,
   "metadata": {},
   "outputs": [],
   "source": [
    "import numpy as np\n",
    "from matplotlib import pyplot as plt\n",
    "import tempfile\n",
    "import os\n",
    "import shutil\n",
    "import glob\n",
    "import tqdm\n",
    "import pandas as pd\n",
    "import pyart\n",
    "from load_radar import load_radar\n",
    "import datetime as dt\n",
    "import zipfile\n",
    "import matplotlib.pyplot as plt\n",
    "import tobac\n",
    "from tint import Cell_tracks\n",
    "        \n",
    "%matplotlib inline\n"
   ]
  },
  {
   "cell_type": "code",
   "execution_count": 11,
   "metadata": {},
   "outputs": [],
   "source": [
    "def unpack_level1b(rid, times):\n",
    "        #Unzip level1b data between times[0] and times[1], and save to scratch\n",
    "        assert times[0].year == times[1].year, \"Times range must be within calendar year\"\n",
    "        files = np.array(glob.glob(\"/g/data/rq0/level_1b/\"+rid+\"/grid/\"+str(times[0].year)+\"/*.zip\"))\n",
    "        if len(files) == 0:\n",
    "                print(\"NO FILES FOUND FOR RID: \"+rid+\" AND TIMES \"+times[0]+\" \"+times[-1])\n",
    "        file_dates = np.array([dt.datetime.strptime(f.split(\"/\")[8].split(\"_\")[1], \"%Y%m%d\") for f in files])\n",
    "        target_files = files[(file_dates >= times[0].replace(hour=0, minute=0)) & (file_dates <= times[1].replace(hour=0, minute=0))]\n",
    "        extract_to = \"/scratch/eg3/ab4502/tint/\"\n",
    "        for f in target_files:\n",
    "                with zipfile.ZipFile(f, \"r\") as zip_ref:\n",
    "                        zip_ref.extractall(extract_to)\n",
    "                        \n",
    "rid = \"2\"; #times = [dt.datetime(2020,1,31,3), dt.datetime(2020,1,31,9)]\n",
    "times=[dt.datetime(2018,12,27,10,17), dt.datetime(2018,12,27,10,19)]\n",
    "\n",
    "#Re-load gridded radar files, as well as raw radar files, in a format ready to send to TINT\n",
    "unpack_level1b(rid, times)\n",
    "grid_files = np.sort(glob.glob(\"/scratch/eg3/ab4502/tint/\"+rid+\"*_grid.nc\"))\n",
    "file_dates = np.array([dt.datetime.strptime(f.split(\"/\")[5].split(\"_\")[1] + f.split(\"/\")[5].split(\"_\")[2],\\\n",
    "                \"%Y%m%d%H%M%S\") for f in grid_files])\n",
    "target_files = grid_files[(file_dates >= times[0]) & (file_dates <= times[1])]\n",
    "grids = (pyart.io.read_grid(fn) for fn in target_files)\n",
    "radars = (None for fn in grid_files)\n",
    "\n",
    "#Initialise TINT tracks and set tracking parameters\n",
    "tracks_obj = Cell_tracks(\"corrected_reflectivity\")\n",
    "tracks_obj.params[\"FIELD_THRESH\"]=30\n",
    "tracks_obj.params[\"MIN_SIZE\"]=15\n",
    "tracks_obj.params[\"MIN_VOL\"]=30\n",
    "tracks_obj.params[\"MIN_HGT\"]=2\n",
    "tracks_obj.params[\"MAX_DISPARITY\"]=60\n",
    "tracks_obj.params[\"SEARCH_MARGIN\"]=10000\n",
    "tracks_obj.params[\"SKIMAGE_PROPS\"]=[\"eccentricity\",\"major_axis_length\",\"minor_axis_length\",\"bbox\"]\n",
    "tracks_obj.params[\"FIELD_DEPTH\"]=5\n",
    "tracks_obj.params[\"LOCAL_MAX_DIST\"]=4\n",
    "tracks_obj.params[\"AZI_SHEAR\"]=True\n",
    "tracks_obj.params[\"STEINER\"]=True\n",
    "tracks_obj.params[\"AZH1\"]=2\n",
    "tracks_obj.params[\"AZH2\"]=6\n",
    "tracks_obj.params[\"SEGMENTATION_METHOD\"] = \"watershed\"\n",
    "tracks_obj.params[\"WATERSHED_SMOOTHING\"] = 3\n",
    "tracks_obj.params[\"WATERSHED_EROSION\"] = 0\n",
    "tracks_obj.params[\"WATERSHED_THRESH\"] = [30,40]\n"
   ]
  },
  {
   "cell_type": "code",
   "execution_count": 12,
   "metadata": {},
   "outputs": [],
   "source": [
    "from tint.tracks import *\n",
    "from tint.objects import *\n",
    "\n",
    "self = tracks_obj\n",
    "    \n",
    "FirstLoop = True\n",
    "if self.record is None:\n",
    "    # tracks object being initialized\n",
    "    grid_obj2 = next(grids)\n",
    "    self.grid_size = get_grid_size(grid_obj2)\n",
    "    self.counter = Counter()\n",
    "    self.record = Record(grid_obj2)\n",
    "else:\n",
    "    # tracks object being updated\n",
    "    grid_obj2 = self.last_grid\n",
    "    self.tracks.drop(self.record.scan + 1)  # last scan is overwritten\n",
    "\n",
    "if self.current_objects is None:\n",
    "    newRain = True\n",
    "else:\n",
    "    newRain = False"
   ]
  },
  {
   "cell_type": "code",
   "execution_count": 17,
   "metadata": {},
   "outputs": [],
   "source": [
    "from tint.grid_utils import *\n",
    "\n",
    "params=self.params\n",
    "grid_obj=grid_obj1\n",
    "field=\"corrected_reflectivity\"\n",
    "grid_size=self.grid_size\n",
    "\n",
    "min_size = params['MIN_SIZE'] / np.prod(grid_size[1:]/1000)\n",
    "min_vol = params['MIN_VOL'] / np.prod(grid_size/1000)\n",
    "min_height = params['MIN_HGT'] / np.prod(grid_size[0]/1000)\n",
    "masked = grid_obj.fields[field]['data']\n",
    "#masked.data[masked.data == masked.fill_value] = 0\n",
    "masked[masked.mask] = 0\n",
    "gs_alt = params['GS_ALT']\n",
    "raw = masked.data[get_grid_alt(grid_size, gs_alt), :, :]"
   ]
  },
  {
   "cell_type": "code",
   "execution_count": 80,
   "metadata": {},
   "outputs": [
    {
     "data": {
      "text/plain": [
       "<matplotlib.collections.QuadMesh at 0x15279103f670>"
      ]
     },
     "execution_count": 80,
     "metadata": {},
     "output_type": "execute_result"
    },
    {
     "data": {
      "image/png": "[encoded data removed]",
      "text/plain": [
       "<Figure size 432x288 with 1 Axes>"
      ]
     },
     "metadata": {
      "needs_background": "light"
     },
     "output_type": "display_data"
    }
   ],
   "source": [
    "#Instead of labelling the 2D grid using scipy ndimage (which just gets > THRESH\n",
    "#   objects) with get_filtered_frame(), use watershedding from tobac\n",
    "#This requires a conversion from the pyart grid object to an Iris cube\n",
    "colmax = grid_obj.to_xarray()[field].max(\"z\")\n",
    "for n in colmax.coords:\n",
    "    if n not in [\"time\",\"x\",\"y\"]:\n",
    "        colmax = colmax.drop(n)\n",
    "colmax = colmax.where(~colmax.isnull(),0).to_iris()\n",
    "\n",
    "#Set the segmentation and feature ID parameters for tobac. This will need to \n",
    "# be set as an option in the TINT parameter set, eventually.\n",
    "parameters_features={}\n",
    "parameters_segmentation={}\n",
    "parameters_features['position_threshold']='weighted_diff'\n",
    "parameters_features['sigma_threshold']=params[\"WATERSHED_SMOOTHING\"]\n",
    "parameters_features['threshold']=params[\"WATERSHED_THRESH\"]\n",
    "parameters_features['threshold']=params[\"WATERSHED_THRESH\"]\n",
    "parameters_features['n_erosion_threshold']=params[\"WATERSHED_EROSION\"]\n",
    "parameters_segmentation['threshold']=params[\"FIELD_THRESH\"]\n",
    "\n",
    "#Run the tobac feature detection\n",
    "Features=tobac.feature_detection.feature_detection_multithreshold(colmax,grid_size[1],**parameters_features)\n",
    "if Features is None:\n",
    "   frame = np.zeros(masked.data.shape)\n",
    "else:\n",
    "   #Segmentation using tobac based on a single threshold and Feature locations\n",
    "   Mask_refl,Features=tobac.segmentation.segmentation(Features,colmax,grid_size[1],**parameters_segmentation)\n",
    "   #Clear small objects\n",
    "\n",
    "#CLEAR SMALL ECHOES\n",
    "#plt.pcolormesh(clear_small_echoes(Mask_refl.data, masked.data, 21, 30, 2, params['FIELD_THRESH']))\n",
    "label_image=np.copy(Mask_refl.data)\n",
    "grid=masked.data\n",
    "\n",
    "params[\"MIN_SIZE\"] = 20\n",
    "params[\"MIN_HGT\"] = 1\n",
    "params[\"MIN_VOL\"] = 20\n",
    "\n",
    "min_size = params['MIN_SIZE'] / np.prod(grid_size[1:]/1000)\n",
    "min_vol = params['MIN_VOL'] / np.prod(grid_size/1000)\n",
    "min_height = params['MIN_HGT'] / np.prod(grid_size[0]/1000)\n",
    "thresh=30\n",
    "\n",
    "flat_image = pd.Series(label_image.flatten())\n",
    "flat_image = flat_image[flat_image > 0]\n",
    "size_table = flat_image.value_counts(sort=False)\n",
    "small_objects = size_table.keys()[size_table < min_size]\n",
    "\n",
    "for obj in small_objects:\n",
    "    label_image[label_image == obj] = 0\n",
    "\n",
    "for obj in np.unique(label_image):\n",
    "    if obj > 0:\n",
    "        heights = (np.where(grid[:,label_image==obj] > thresh))[0]\n",
    "        if (((grid[:,label_image == obj] > thresh).sum()) < min_vol) | \\\n",
    "                     ((heights.max() - heights.min()) < min_height):\n",
    "            label_image[label_image == obj] = 0\n",
    "\n",
    "cnt=1\n",
    "for obj in np.unique(label_image):\n",
    "    if obj > 0:\n",
    "        label_image[label_image==obj] = cnt\n",
    "        cnt=cnt+1\n",
    "plt.pcolormesh(label_image)"
   ]
  },
  {
   "cell_type": "code",
   "execution_count": 45,
   "metadata": {},
   "outputs": [
    {
     "name": "stdout",
     "output_type": "stream",
     "text": [
      "0:06:00\n"
     ]
    }
   ],
   "source": [
    "self.record.update_scan_and_time(grid_obj1, grid_obj2)\n",
    "\n",
    "print(self.record.interval)Mask_refl"
   ]
  },
  {
   "cell_type": "code",
   "execution_count": 69,
   "metadata": {},
   "outputs": [
    {
     "name": "stdout",
     "output_type": "stream",
     "text": [
      "[1000.           2.3271778 1000.        1000.          31.417053\n",
      " 1000.        1000.        1000.       ]\n"
     ]
    }
   ],
   "source": [
    "from tint.matching import *\n",
    "\n",
    "#Test matching\n",
    "LARGE_NUM=1000\n",
    "params=self.params\n",
    "record=self.record\n",
    "global_shift = get_global_shift(raw1, raw2, self.params)\n",
    "image1 = frame1\n",
    "image2 = frame2\n",
    "current_objects = self.current_objects\n",
    "\n",
    "#locate_all_objects()\n",
    "nobj1 = np.max(image1)\n",
    "nobj2 = np.max(image2)\n",
    "\n",
    "if (nobj2 == 0) or (nobj1 == 0):\n",
    "    print('No echoes to track!')\n",
    "\n",
    "obj_match = np.full((nobj1, np.max((nobj1, nobj2))),\n",
    "                    LARGE_NUM, dtype='f')\n",
    "\n",
    "#for all the objects in frame1...look at object 4 which splits in frame2\n",
    "for obj_id1 in np.arange(nobj1) + 1:\n",
    "    obj1_extent = get_obj_extent(image1, obj_id1)\n",
    "    shift = get_ambient_flow(obj1_extent, image1,\n",
    "                             image2, params, record.grid_size)\n",
    "    if shift is None:\n",
    "        record.count_case(5)\n",
    "        shift = global_shift\n",
    "\n",
    "    shift = correct_shift(shift, current_objects, obj_id1,\n",
    "                          global_shift, record, params)\n",
    "\n",
    "    search_box = predict_search_extent(obj1_extent, shift,\n",
    "                                       params, record.grid_size)\n",
    "    search_box = check_search_box(search_box, image2.shape)\n",
    "    objs_found = find_objects(search_box, image2)\n",
    "    disparity = get_disparity_all(objs_found, image2,\n",
    "                                  search_box, obj1_extent)\n",
    "    obj_match = save_obj_match(obj_id1, objs_found, disparity, obj_match,\n",
    "                                       params)\n",
    "\n",
    "#get_pairs() first gets an N x M matrix of \"disparity\", where N is the number\n",
    "# of objects in frame1, and M is the number of objects in frame2. This matrix is \n",
    "# only filled if the objects are within the search radius in frame2, otherwise set to\n",
    "# large num. For the example above:\n",
    "# obj_match = array([[1000.      , 1000.      , 1000.      , 1000.      , 1000.      ,\n",
    "#         1000.      , 1000.      , 1000.      ],\n",
    "#        [1000.      , 1000.      , 1000.      , 1000.      , 1000.      ,\n",
    "#         1000.      , 1000.      , 1000.      ],\n",
    "#        [1000.      , 1000.      , 1000.      , 1000.      , 1000.      ,\n",
    "#         1000.      , 1000.      , 1000.      ],\n",
    "#        [1000.      , 1000.      , 1000.      ,   24.265465, 1000.      ,\n",
    "#           18.375286, 1000.      , 1000.      ],\n",
    "#        [1000.      , 1000.      , 1000.      , 1000.      , 1000.      ,\n",
    "#         1000.      , 1000.      , 1000.      ],\n",
    "#        [1000.      , 1000.      , 1000.      , 1000.      , 1000.      ,\n",
    "#         1000.      , 1000.      , 1000.      ],\n",
    "#        [1000.      , 1000.      , 1000.      , 1000.      , 1000.      ,\n",
    "#         1000.      , 1000.      , 1000.      ]], dtype=float32)\n",
    "\n",
    "print(obj_match[1,:])"
   ]
  },
  {
   "cell_type": "code",
   "execution_count": 22,
   "metadata": {},
   "outputs": [
    {
     "data": {
      "text/plain": [
       "Text(0, 0.5, 'Height (m)')"
      ]
     },
     "execution_count": 22,
     "metadata": {},
     "output_type": "execute_result"
    },
    {
     "data": {
      "image/png": "[encoded data removed]",
      "text/plain": [
       "<Figure size 432x288 with 2 Axes>"
      ]
     },
     "metadata": {
      "needs_background": "light"
     },
     "output_type": "display_data"
    },
    {
     "data": {
      "image/png": "[encoded data removed]",
      "text/plain": [
       "<Figure size 432x288 with 1 Axes>"
      ]
     },
     "metadata": {
      "needs_background": "light"
     },
     "output_type": "display_data"
    }
   ],
   "source": [
    "#Testing az shear for Melbourne xmas day storm\n",
    "\n",
    "plt.pcolormesh(frame2==5)\n",
    "grid1=grid_obj2; image1=frame2; field=\"corrected_reflectivity\"; params=tracks_obj.params; az_field=\"azshear\"; record=tracks_obj.record\n",
    "\n",
    "unit_dim = record.grid_size\n",
    "unit_alt = unit_dim[0]/1000\n",
    "unit_len = unit_dim[1]/1000\n",
    "unit_area = (unit_dim[1]*unit_dim[2])/(1000**2)\n",
    "unit_vol = (unit_dim[0]*unit_dim[1]*unit_dim[2])/(1000**3)\n",
    "\n",
    "#Set up azimuthal shear 3d array\n",
    "raw3D = grid1.fields[field]['data'].data\n",
    "if params[\"AZI_SHEAR\"]:\n",
    "    if az_field in list(grid1.fields.keys()):\n",
    "       raw3D_az = grid1.fields[az_field]['data'].data\n",
    "       raw3D_az = np.where(raw3D_az == -9999, np.nan, raw3D_az)\n",
    "       az_hidx = (np.arange(raw3D.shape[0])*unit_alt >= params[\"AZH1\"]) &\\\n",
    "           (np.arange(raw3D.shape[0])*unit_alt <= params[\"AZH2\"])\n",
    "    else: \n",
    "       print(\"AZI_SHEAR parameter is TRUE, but can't find \"+az_field+\" in the grid file for\"+pyart.util.datetime_from_grid(grid1).strftime())\n",
    "\n",
    "obj=5\n",
    "plt.pcolormesh(np.where(image1==obj, raw3D_az, np.nan)[5]); plt.colorbar()\n",
    "plt.ylim([125,190]); plt.xlim([140,200])\n",
    "\n",
    "plt.figure()\n",
    "plt.plot(np.nanpercentile(np.abs(np.where(image1==obj, raw3D_az, np.nan)), 99.5, axis=(1,2)), grid_obj2.to_xarray().z.values, marker=\"x\")\n",
    "plt.gca().axvline(4.5,color=\"k\",ls=\"--\")\n",
    "plt.xlabel(\"az shear\")\n",
    "plt.ylabel(\"Height (m)\")"
   ]
  },
  {
   "cell_type": "code",
   "execution_count": 106,
   "metadata": {},
   "outputs": [
    {
     "data": {
      "text/plain": [
       "nan"
      ]
     },
     "execution_count": 106,
     "metadata": {},
     "output_type": "execute_result"
    }
   ],
   "source": []
  },
  {
   "cell_type": "code",
   "execution_count": null,
   "metadata": {},
   "outputs": [],
   "source": []
  }
 ],
 "metadata": {
  "kernelspec": {
   "display_name": "Python [conda env:miniconda3-radar]",
   "language": "python",
   "name": "conda-env-miniconda3-radar-py"
  },
  "language_info": {
   "codemirror_mode": {
    "name": "ipython",
    "version": 3
   },
   "file_extension": ".py",
   "mimetype": "text/x-python",
   "name": "python",
   "nbconvert_exporter": "python",
   "pygments_lexer": "ipython3",
   "version": "3.9.4"
  }
 },
 "nbformat": 4,
 "nbformat_minor": 4
}
